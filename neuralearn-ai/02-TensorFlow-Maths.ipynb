{
 "cells": [
  {
   "cell_type": "code",
   "execution_count": 2,
   "metadata": {},
   "outputs": [],
   "source": [
    "import tensorflow as tf"
   ]
  },
  {
   "cell_type": "code",
   "execution_count": 5,
   "metadata": {},
   "outputs": [],
   "source": [
    "x = tf.constant([5, -4 , 6])"
   ]
  },
  {
   "cell_type": "code",
   "execution_count": 8,
   "metadata": {},
   "outputs": [
    {
     "name": "stdout",
     "output_type": "stream",
     "text": [
      "tf.Tensor([5 4 6], shape=(3,), dtype=int32)\n"
     ]
    }
   ],
   "source": [
    "abs_x = tf.math.abs(x)\n",
    "print(abs_x)"
   ]
  },
  {
   "cell_type": "code",
   "execution_count": 10,
   "metadata": {},
   "outputs": [
    {
     "name": "stdout",
     "output_type": "stream",
     "text": [
      "tf.Tensor(\n",
      "[[-2.25+4.75j]\n",
      " [-3.25+5.75j]], shape=(2, 1), dtype=complex128)\n",
      "tf.Tensor(\n",
      "[[5.25594901]\n",
      " [6.60492241]], shape=(2, 1), dtype=float64)\n"
     ]
    }
   ],
   "source": [
    "# complex number\n",
    "x = tf.constant([[-2.25 + 4.75j], [-3.25 + 5.75j]])\n",
    "x_abs = tf.abs(x)\n",
    "print(x)\n",
    "print(x_abs)\n",
    "\n"
   ]
  },
  {
   "cell_type": "code",
   "execution_count": 17,
   "metadata": {},
   "outputs": [
    {
     "name": "stdout",
     "output_type": "stream",
     "text": [
      "tf.Tensor([2.], shape=(1,), dtype=float32)\n"
     ]
    }
   ],
   "source": [
    "x = tf.constant([4.0],)\n",
    "x_abs = tf.math.abs(x)\n",
    "print(tf.math.sqrt(x))"
   ]
  },
  {
   "cell_type": "code",
   "execution_count": 20,
   "metadata": {},
   "outputs": [
    {
     "name": "stdout",
     "output_type": "stream",
     "text": [
      "a + b =  tf.Tensor([11 22 33 44 55], shape=(5,), dtype=int32)\n",
      "a - b =  tf.Tensor([ -9 -18 -27 -36 -45], shape=(5,), dtype=int32)\n",
      "a * b =  tf.Tensor([ 10  40  90 160 250], shape=(5,), dtype=int32)\n",
      "a / b =  tf.Tensor([0.1 0.1 0.1 0.1 0.1], shape=(5,), dtype=float64)\n"
     ]
    }
   ],
   "source": [
    "a = tf.constant([1, 2, 3, 4, 5])\n",
    "b = tf.constant([10, 20, 30, 40, 50])\n",
    "\n",
    "result = tf.math.add (a,b)\n",
    "print(\"a + b = \",result)\n",
    "\n",
    "result = tf.math.subtract (a,b)\n",
    "print(\"a - b = \",result)\n",
    "\n",
    "result = tf.math.multiply (a,b)\n",
    "print(\"a * b = \",result)\n",
    "\n",
    "result = tf.math.divide (a,b)\n",
    "print(\"a / b = \",result)"
   ]
  },
  {
   "cell_type": "code",
   "execution_count": 21,
   "metadata": {},
   "outputs": [
    {
     "data": {
      "text/plain": [
       "<tf.Tensor: shape=(), dtype=float32, numpy=0.0>"
      ]
     },
     "execution_count": 21,
     "metadata": {},
     "output_type": "execute_result"
    }
   ],
   "source": [
    "tf.constant(3.0) / 0.0\n",
    "tf.math.divide_no_nan(3.0, 0.0)\n"
   ]
  },
  {
   "cell_type": "code",
   "execution_count": 27,
   "metadata": {},
   "outputs": [
    {
     "name": "stdout",
     "output_type": "stream",
     "text": [
      "In general , a / b =  tf.Tensor([0.1 0.1 inf 0.1 0.1], shape=(5,), dtype=float32)\n",
      "Using divide_no_nan, a / b =  tf.Tensor([0.1 0.1 0.  0.1 0.1], shape=(5,), dtype=float32)\n"
     ]
    }
   ],
   "source": [
    "a = tf.constant([1, 2, 3, 4, 5], dtype=tf.float32)\n",
    "b = tf.constant([10, 20, 0, 40, 50], dtype=tf.float32)\n",
    "\n",
    "\n",
    "print(\"In general , a / b = \", tf.math.divide(a,b))\n",
    "print(\"Using divide_no_nan, a / b = \", tf.math.divide_no_nan(a,b))"
   ]
  },
  {
   "cell_type": "code",
   "execution_count": 28,
   "metadata": {},
   "outputs": [
    {
     "name": "stdout",
     "output_type": "stream",
     "text": [
      "a + b =  tf.Tensor([ 8.  9. 10. 11. 12.], shape=(5,), dtype=float32)\n",
      "a - b =  tf.Tensor([-6. -5. -4. -3. -2.], shape=(5,), dtype=float32)\n"
     ]
    }
   ],
   "source": [
    "a = tf.constant([1, 2, 3, 4, 5], dtype=tf.float32)\n",
    "b = tf.constant([7], dtype=tf.float32)\n",
    "\n",
    "print(\"a + b = \",tf.math.add(a,b))\n",
    "print(\"a - b = \",tf.math.subtract(a,b))"
   ]
  },
  {
   "cell_type": "code",
   "execution_count": null,
   "metadata": {},
   "outputs": [],
   "source": []
  }
 ],
 "metadata": {
  "kernelspec": {
   "display_name": "AIML",
   "language": "python",
   "name": "python3"
  },
  "language_info": {
   "codemirror_mode": {
    "name": "ipython",
    "version": 3
   },
   "file_extension": ".py",
   "mimetype": "text/x-python",
   "name": "python",
   "nbconvert_exporter": "python",
   "pygments_lexer": "ipython3",
   "version": "3.10.9"
  },
  "orig_nbformat": 4
 },
 "nbformat": 4,
 "nbformat_minor": 2
}
