{
 "cells": [
  {
   "cell_type": "code",
   "execution_count": 2,
   "metadata": {},
   "outputs": [],
   "source": [
    "a = 5"
   ]
  },
  {
   "cell_type": "code",
   "execution_count": 3,
   "metadata": {},
   "outputs": [],
   "source": [
    "import tensorflow as tf"
   ]
  },
  {
   "cell_type": "code",
   "execution_count": 4,
   "metadata": {},
   "outputs": [],
   "source": [
    "x = tf.constant([5, -4 , 6])"
   ]
  },
  {
   "cell_type": "code",
   "execution_count": 5,
   "metadata": {},
   "outputs": [
    {
     "name": "stdout",
     "output_type": "stream",
     "text": [
      "tf.Tensor([5 4 6], shape=(3,), dtype=int32)\n"
     ]
    }
   ],
   "source": [
    "abs_x = tf.math.abs(x)\n",
    "print(abs_x)"
   ]
  },
  {
   "cell_type": "code",
   "execution_count": 6,
   "metadata": {},
   "outputs": [
    {
     "name": "stdout",
     "output_type": "stream",
     "text": [
      "tf.Tensor(\n",
      "[[-2.25+4.75j]\n",
      " [-3.25+5.75j]], shape=(2, 1), dtype=complex128)\n",
      "tf.Tensor(\n",
      "[[5.25594901]\n",
      " [6.60492241]], shape=(2, 1), dtype=float64)\n"
     ]
    }
   ],
   "source": [
    "# complex number\n",
    "x = tf.constant([[-2.25 + 4.75j], \n",
    "                 [-3.25 + 5.75j]])\n",
    "x_abs = tf.abs(x)\n",
    "print(x)\n",
    "print(x_abs)\n",
    "\n"
   ]
  },
  {
   "cell_type": "code",
   "execution_count": 7,
   "metadata": {},
   "outputs": [
    {
     "name": "stdout",
     "output_type": "stream",
     "text": [
      "tf.Tensor([4.], shape=(1,), dtype=float32)\n",
      "tf.Tensor([2.], shape=(1,), dtype=float32)\n"
     ]
    }
   ],
   "source": [
    "x = tf.constant([4.0],)\n",
    "x_abs = tf.math.abs(x)\n",
    "print(x_abs)\n",
    "print(tf.math.sqrt(x))"
   ]
  },
  {
   "cell_type": "code",
   "execution_count": 8,
   "metadata": {},
   "outputs": [
    {
     "name": "stdout",
     "output_type": "stream",
     "text": [
      "a + b =  tf.Tensor([11 22 33 44 55], shape=(5,), dtype=int32)\n",
      "a - b =  tf.Tensor([ -9 -18 -27 -36 -45], shape=(5,), dtype=int32)\n",
      "a * b =  tf.Tensor([ 10  40  90 160 250], shape=(5,), dtype=int32)\n",
      "a / b =  tf.Tensor([0.1 0.1 0.1 0.1 0.1], shape=(5,), dtype=float64)\n"
     ]
    }
   ],
   "source": [
    "a = tf.constant([1, 2, 3, 4, 5])\n",
    "b = tf.constant([10, 20, 30, 40, 50])\n",
    "\n",
    "result = tf.math.add (a,b)\n",
    "print(\"a + b = \",result)\n",
    "\n",
    "result = tf.math.subtract (a,b)\n",
    "print(\"a - b = \",result)\n",
    "\n",
    "result = tf.math.multiply (a,b)\n",
    "print(\"a * b = \",result)\n",
    "\n",
    "result = tf.math.divide (a,b)\n",
    "print(\"a / b = \",result)"
   ]
  },
  {
   "cell_type": "code",
   "execution_count": 9,
   "metadata": {},
   "outputs": [
    {
     "data": {
      "text/plain": [
       "<tf.Tensor: shape=(), dtype=float32, numpy=0.0>"
      ]
     },
     "execution_count": 9,
     "metadata": {},
     "output_type": "execute_result"
    }
   ],
   "source": [
    "tf.constant(3.0) / 0.0\n",
    "tf.math.divide_no_nan(3.0, 0.0)\n"
   ]
  },
  {
   "cell_type": "code",
   "execution_count": 10,
   "metadata": {},
   "outputs": [
    {
     "name": "stdout",
     "output_type": "stream",
     "text": [
      "In general , a / b =  tf.Tensor([0.1 0.1 inf 0.1 0.1], shape=(5,), dtype=float32)\n",
      "Using divide_no_nan, a / b =  tf.Tensor([0.1 0.1 0.  0.1 0.1], shape=(5,), dtype=float32)\n"
     ]
    }
   ],
   "source": [
    "a = tf.constant([1, 2, 3, 4, 5], dtype=tf.float32)\n",
    "b = tf.constant([10, 20, 0, 40, 50], dtype=tf.float32)\n",
    "\n",
    "\n",
    "print(\"In general , a / b = \", tf.math.divide(a,b))\n",
    "print(\"Using divide_no_nan, a / b = \", tf.math.divide_no_nan(a,b))"
   ]
  },
  {
   "cell_type": "code",
   "execution_count": 11,
   "metadata": {},
   "outputs": [
    {
     "name": "stdout",
     "output_type": "stream",
     "text": [
      "a + b =  tf.Tensor([ 8.  9. 10. 11. 12.], shape=(5,), dtype=float32)\n",
      "a - b =  tf.Tensor([-6. -5. -4. -3. -2.], shape=(5,), dtype=float32)\n"
     ]
    }
   ],
   "source": [
    "a = tf.constant([1, 2, 3, 4, 5], dtype=tf.float32)\n",
    "b = tf.constant([7], dtype=tf.float32)\n",
    "\n",
    "print(\"a + b = \",tf.math.add(a,b))\n",
    "print(\"a - b = \",tf.math.subtract(a,b))"
   ]
  },
  {
   "cell_type": "code",
   "execution_count": 12,
   "metadata": {},
   "outputs": [
    {
     "name": "stdout",
     "output_type": "stream",
     "text": [
      "a + b =  tf.Tensor(\n",
      "[[ 8.  9. 10. 11. 12.]\n",
      " [13. 14. 15. 16. 17.]], shape=(2, 5), dtype=float32)\n",
      "a - b =  tf.Tensor(\n",
      "[[-6. -5. -4. -3. -2.]\n",
      " [-1.  0.  1.  2.  3.]], shape=(2, 5), dtype=float32)\n"
     ]
    }
   ],
   "source": [
    "a = tf.constant([[1, 2, 3, 4, 5], [6,7,8,9,10]], dtype=tf.float32)\n",
    "b = tf.constant([7], dtype=tf.float32)\n",
    "\n",
    "print(\"a + b = \",tf.math.add(a,b))\n",
    "print(\"a - b = \",tf.math.subtract(a,b))"
   ]
  },
  {
   "cell_type": "code",
   "execution_count": 13,
   "metadata": {},
   "outputs": [
    {
     "name": "stdout",
     "output_type": "stream",
     "text": [
      "a + b =  tf.Tensor(\n",
      "[[ 8.  9. 10. 11. 12.]\n",
      " [11. 12. 13. 14. 15.]], shape=(2, 5), dtype=float32)\n",
      "a - b =  tf.Tensor(\n",
      "[[-6. -5. -4. -3. -2.]\n",
      " [ 1.  2.  3.  4.  5.]], shape=(2, 5), dtype=float32)\n"
     ]
    }
   ],
   "source": [
    "a = tf.constant([[1, 2, 3, 4, 5], [6,7,8,9,10]], dtype=tf.float32)\n",
    "b = tf.constant([[7], [5]], dtype=tf.float32)\n",
    "\n",
    "print(\"a + b = \",tf.math.add(a,b))\n",
    "print(\"a - b = \",tf.math.subtract(a,b))"
   ]
  },
  {
   "cell_type": "code",
   "execution_count": 14,
   "metadata": {},
   "outputs": [
    {
     "name": "stdout",
     "output_type": "stream",
     "text": [
      "a + b =  tf.Tensor(\n",
      "[[ 7. 14. 21. 28. 35.]\n",
      " [30. 35. 40. 45. 50.]], shape=(2, 5), dtype=float32)\n",
      "a - b =  tf.Tensor(\n",
      "[[ 7. 14. 21. 28. 35.]\n",
      " [30. 35. 40. 45. 50.]], shape=(2, 5), dtype=float32)\n"
     ]
    }
   ],
   "source": [
    "a = tf.constant([[1, 2, 3, 4, 5], [6,7,8,9,10]], dtype=tf.float32)\n",
    "b = tf.constant([[7], [5]], dtype=tf.float32)\n",
    "\n",
    "print(\"a + b = \",tf.math.multiply(a,b))\n",
    "print(\"a - b = \",tf.math.multiply_no_nan(a,b))"
   ]
  },
  {
   "cell_type": "code",
   "execution_count": 15,
   "metadata": {},
   "outputs": [
    {
     "name": "stdout",
     "output_type": "stream",
     "text": [
      "a + b =  tf.Tensor(\n",
      "[[ 7. 14. 21. 28. 35.]\n",
      " [ 5. 10. 15. 20. 25.]\n",
      " [ 3.  6.  9. 12. 15.]], shape=(3, 5), dtype=float32)\n",
      "shape of a is  (1, 5)\n",
      "shape of b is  (3, 1)\n",
      "shape of result is  (3, 5)\n"
     ]
    }
   ],
   "source": [
    "a = tf.constant([[1, 2, 3, 4, 5]], dtype=tf.float32)\n",
    "b = tf.constant([[7], [5], [3]], dtype=tf.float32)\n",
    "\n",
    "result = tf.math.multiply(a,b)\n",
    "\n",
    "print(\"a + b = \",tf.math.multiply(a,b))\n",
    "\n",
    "print(\"shape of a is \", a.shape)\n",
    "print(\"shape of b is \",b.shape)\n",
    "print(\"shape of result is \",result.shape)\n",
    "\n",
    "\n",
    "\n",
    "\n",
    "## Visulaie this as like\n",
    "\n",
    "# 1, 2, 3, 4, 5               7 7 7 7 7            7. 14. 21. 28. 35.\n",
    "# 1, 2, 3, 4, 5       *       5 5 5 5 5    =       5. 10. 15. 20. 25.\n",
    "# 1, 2, 3, 4, 5               3 3 3 3 3            3.  6.  9. 12. 15.\n"
   ]
  },
  {
   "cell_type": "markdown",
   "metadata": {},
   "source": [
    "    tf.math.argmin"
   ]
  },
  {
   "cell_type": "code",
   "execution_count": 16,
   "metadata": {},
   "outputs": [
    {
     "data": {
      "text/plain": [
       "<tf.Tensor: shape=(5,), dtype=float32, numpy=array([ 1., 14.,  0.,  4., 50.], dtype=float32)>"
      ]
     },
     "execution_count": 16,
     "metadata": {},
     "output_type": "execute_result"
    }
   ],
   "source": [
    "# tf.math.minimum\n",
    "a = tf.constant([1, 21, 3, 4, 55], dtype=tf.float32)\n",
    "b = tf.constant([10, 14, 0, 40, 50], dtype=tf.float32)\n",
    "\n",
    "tf.math.minimum(a,b)"
   ]
  },
  {
   "cell_type": "markdown",
   "metadata": {},
   "source": [
    "    - tf.math.argmax (tensor, axis)\n"
   ]
  },
  {
   "cell_type": "code",
   "execution_count": 18,
   "metadata": {},
   "outputs": [
    {
     "name": "stdout",
     "output_type": "stream",
     "text": [
      "tf.Tensor(2, shape=(), dtype=int64)\n"
     ]
    }
   ],
   "source": [
    "a = tf.constant([2,20,30,3,6])\n",
    "print(tf.math.argmax(a))         # return the index of element where maximum element is present"
   ]
  },
  {
   "cell_type": "code",
   "execution_count": 19,
   "metadata": {},
   "outputs": [
    {
     "name": "stdout",
     "output_type": "stream",
     "text": [
      "tf.Tensor(0, shape=(), dtype=int64)\n"
     ]
    }
   ],
   "source": [
    "a = tf.constant([200,120,130,3,6])\n",
    "print(tf.math.argmax(a))"
   ]
  },
  {
   "cell_type": "code",
   "execution_count": 23,
   "metadata": {},
   "outputs": [
    {
     "name": "stdout",
     "output_type": "stream",
     "text": [
      "tf.Tensor([2 2 0 2 2], shape=(5,), dtype=int64)\n",
      "tf.Tensor([2 2 1], shape=(3,), dtype=int64)\n"
     ]
    }
   ],
   "source": [
    "b = tf.constant(\n",
    "    [[2,20,30,3,6],\n",
    "    [3,11,16,1,8],\n",
    "    [14,45,23,5,27]]\n",
    ")\n",
    "\n",
    "print(tf.math.argmax(b,axis = 0))       # axis =0 means in a column\n",
    "print(tf.math.argmax(b,axis = 1))       # axis =1 means in a column"
   ]
  },
  {
   "cell_type": "code",
   "execution_count": 24,
   "metadata": {},
   "outputs": [
    {
     "name": "stdout",
     "output_type": "stream",
     "text": [
      "tf.Tensor([0 1 1 1 0], shape=(5,), dtype=int64)\n",
      "tf.Tensor([0 3 3], shape=(3,), dtype=int64)\n"
     ]
    }
   ],
   "source": [
    "print(tf.math.argmin(b, axis=0))\n",
    "print(tf.math.argmin(b, axis=1))"
   ]
  },
  {
   "cell_type": "code",
   "execution_count": 32,
   "metadata": {},
   "outputs": [
    {
     "name": "stdout",
     "output_type": "stream",
     "text": [
      "(3, 2, 3)\n",
      "tf.Tensor(\n",
      "[[0 0 1]\n",
      " [1 0 1]], shape=(2, 3), dtype=int64)\n",
      "tf.Tensor(\n",
      "[[0 0 1]\n",
      " [1 0 1]], shape=(2, 3), dtype=int64)\n",
      "tf.Tensor(\n",
      "[[1 1 0]\n",
      " [1 1 0]\n",
      " [1 1 0]], shape=(3, 3), dtype=int64)\n"
     ]
    }
   ],
   "source": [
    "c = tf.constant([\n",
    "    [\n",
    "       [1,5,7],\n",
    "       [7,8,5] \n",
    "    ],\n",
    "    [\n",
    "       [1,5,8],\n",
    "       [9,8,6] \n",
    "    ],\n",
    "    [\n",
    "       [1,3,7],\n",
    "       [7,4,5] \n",
    "    ]   \n",
    "])\n",
    "\n",
    "\n",
    "print(c.shape) \n",
    "print(tf.math.argmax(c))        # defaukt axis is 0 i.e \n",
    "print(tf.math.argmax(c,axis = 0))\n",
    "print(tf.math.argmax(c, axis= 1))"
   ]
  },
  {
   "cell_type": "code",
   "execution_count": 33,
   "metadata": {},
   "outputs": [
    {
     "data": {
      "text/plain": [
       "TensorShape([2, 2, 3])"
      ]
     },
     "execution_count": 33,
     "metadata": {},
     "output_type": "execute_result"
    }
   ],
   "source": [
    "image = tf.constant([[[0.1, 0.2, 0.9], [0.7, 0.4, 0.3]], [[0.5, 0.6, 0.2], [0.8, 0.1, 0.4]]])\n",
    "\n",
    "image.shape"
   ]
  },
  {
   "cell_type": "code",
   "execution_count": 31,
   "metadata": {},
   "outputs": [],
   "source": [
    "matrix = tf.constant([[1, 2, 3], [4, 5, 6], [7, 8, 9]])"
   ]
  },
  {
   "cell_type": "markdown",
   "metadata": {},
   "source": [
    "    - tensor comparison"
   ]
  },
  {
   "cell_type": "code",
   "execution_count": 36,
   "metadata": {},
   "outputs": [
    {
     "data": {
      "text/plain": [
       "<tf.Tensor: shape=(2,), dtype=bool, numpy=array([ True, False])>"
      ]
     },
     "execution_count": 36,
     "metadata": {},
     "output_type": "execute_result"
    }
   ],
   "source": [
    "x = tf.constant([2, 4])\n",
    "y = tf.constant([2])\n",
    "\n",
    "tf.math.equal(x, y)"
   ]
  },
  {
   "cell_type": "code",
   "execution_count": 37,
   "metadata": {},
   "outputs": [
    {
     "name": "stdout",
     "output_type": "stream",
     "text": [
      "tf.Tensor([ True False], shape=(2,), dtype=bool)\n"
     ]
    }
   ],
   "source": [
    "print(tf.math.equal(x,y))"
   ]
  },
  {
   "cell_type": "code",
   "execution_count": 38,
   "metadata": {},
   "outputs": [
    {
     "data": {
      "text/plain": [
       "TensorShape([1])"
      ]
     },
     "execution_count": 38,
     "metadata": {},
     "output_type": "execute_result"
    }
   ],
   "source": [
    "y = tf.constant([2])\n",
    "v = tf.constant(2)"
   ]
  },
  {
   "cell_type": "code",
   "execution_count": 40,
   "metadata": {},
   "outputs": [
    {
     "name": "stdout",
     "output_type": "stream",
     "text": [
      "(1,)\n",
      "()\n"
     ]
    }
   ],
   "source": [
    "print(y.shape)\n",
    "print(v.shape)"
   ]
  },
  {
   "cell_type": "code",
   "execution_count": 43,
   "metadata": {},
   "outputs": [
    {
     "name": "stdout",
     "output_type": "stream",
     "text": [
      "tf.Tensor(\n",
      "[[False False False False False]\n",
      " [False False False False False]\n",
      " [False False False  True False]], shape=(3, 5), dtype=bool)\n"
     ]
    }
   ],
   "source": [
    "b = tf.constant(\n",
    "    [[2,20,30,3,6],\n",
    "    [3,11,16,1,8],\n",
    "    [14,45,23,5,27]]\n",
    ")\n",
    "\n",
    "a = tf.constant([5])\n",
    "\n",
    "print(tf.math.equal(b,a))"
   ]
  },
  {
   "cell_type": "markdown",
   "metadata": {},
   "source": [
    "    - power function -> tf.pow()"
   ]
  },
  {
   "cell_type": "code",
   "execution_count": 46,
   "metadata": {},
   "outputs": [
    {
     "data": {
      "text/plain": [
       "<tf.Tensor: shape=(), dtype=int32, numpy=8>"
      ]
     },
     "execution_count": 46,
     "metadata": {},
     "output_type": "execute_result"
    }
   ],
   "source": [
    "tf.pow(tf.constant(2), tf.constant(3))"
   ]
  },
  {
   "cell_type": "code",
   "execution_count": 44,
   "metadata": {},
   "outputs": [
    {
     "data": {
      "text/plain": [
       "<tf.Tensor: shape=(2, 2), dtype=int32, numpy=\n",
       "array([[ 8,  1],\n",
       "       [ 3, 81]])>"
      ]
     },
     "execution_count": 44,
     "metadata": {},
     "output_type": "execute_result"
    }
   ],
   "source": [
    "x = tf.constant([\n",
    "    [2,2],\n",
    "    [3,3]\n",
    "])\n",
    "\n",
    "y = tf.constant([\n",
    "    [3,0],\n",
    "    [1,4]\n",
    "])\n",
    "\n",
    "tf.pow(x,y)"
   ]
  },
  {
   "cell_type": "code",
   "execution_count": 45,
   "metadata": {},
   "outputs": [
    {
     "name": "stdout",
     "output_type": "stream",
     "text": [
      "tf.Tensor(\n",
      "[[ 8  1]\n",
      " [ 3 81]], shape=(2, 2), dtype=int32)\n"
     ]
    }
   ],
   "source": [
    "print(tf.pow(x,y))"
   ]
  },
  {
   "cell_type": "markdown",
   "metadata": {},
   "source": [
    "    - reduce functions"
   ]
  },
  {
   "cell_type": "code",
   "execution_count": 62,
   "metadata": {},
   "outputs": [
    {
     "name": "stdout",
     "output_type": "stream",
     "text": [
      "tf.Tensor(\n",
      "[[ 1  3  4]\n",
      " [ 8  6  0]\n",
      " [30 12  5]\n",
      " [71  6  9]], shape=(4, 3), dtype=int32)\n"
     ]
    }
   ],
   "source": [
    "r1 = tf.constant([\n",
    "    [1,3,4],\n",
    "    [8,6,0],\n",
    "    [30,12,5],\n",
    "    [71,6,9]\n",
    "])\n",
    "\n",
    "\n",
    "print(r1)\n",
    "\n"
   ]
  },
  {
   "cell_type": "code",
   "execution_count": 51,
   "metadata": {},
   "outputs": [
    {
     "name": "stdout",
     "output_type": "stream",
     "text": [
      "tf.Tensor(155, shape=(), dtype=int32)\n"
     ]
    }
   ],
   "source": [
    "print(tf.reduce_sum(r1))       # default it will sum to all values"
   ]
  },
  {
   "cell_type": "code",
   "execution_count": 52,
   "metadata": {},
   "outputs": [
    {
     "name": "stdout",
     "output_type": "stream",
     "text": [
      "tf.Tensor([110  27  18], shape=(3,), dtype=int32)\n"
     ]
    }
   ],
   "source": [
    "print(tf.reduce_sum(r1,axis = 0))      # column"
   ]
  },
  {
   "cell_type": "code",
   "execution_count": 53,
   "metadata": {},
   "outputs": [
    {
     "name": "stdout",
     "output_type": "stream",
     "text": [
      "tf.Tensor([ 8 14 47 86], shape=(4,), dtype=int32)\n"
     ]
    }
   ],
   "source": [
    "print(tf.reduce_sum(r1, axis = 1)) # row"
   ]
  },
  {
   "cell_type": "code",
   "execution_count": 54,
   "metadata": {},
   "outputs": [
    {
     "data": {
      "text/plain": [
       "<tf.Tensor: shape=(), dtype=int32, numpy=0>"
      ]
     },
     "execution_count": 54,
     "metadata": {},
     "output_type": "execute_result"
    }
   ],
   "source": [
    "tf.reduce_min(r1)"
   ]
  },
  {
   "cell_type": "code",
   "execution_count": 56,
   "metadata": {},
   "outputs": [
    {
     "name": "stdout",
     "output_type": "stream",
     "text": [
      "tf.Tensor(0, shape=(), dtype=int32)\n",
      "tf.Tensor(71, shape=(), dtype=int32)\n"
     ]
    }
   ],
   "source": [
    "print(tf.reduce_min(r1))\n",
    "print(tf.reduce_max(r1))"
   ]
  },
  {
   "cell_type": "code",
   "execution_count": 59,
   "metadata": {},
   "outputs": [
    {
     "name": "stdout",
     "output_type": "stream",
     "text": [
      "tf.Tensor(12, shape=(), dtype=int32)\n"
     ]
    }
   ],
   "source": [
    "print(tf.reduce_mean(r1))\n"
   ]
  },
  {
   "cell_type": "code",
   "execution_count": 60,
   "metadata": {},
   "outputs": [
    {
     "name": "stdout",
     "output_type": "stream",
     "text": [
      "tf.Tensor([110  27  18], shape=(3,), dtype=int32)\n",
      "tf.Tensor([ 8 14 47 86], shape=(4,), dtype=int32)\n"
     ]
    }
   ],
   "source": [
    "print(tf.reduce_sum(r1, axis=0))\n",
    "print(tf.reduce_sum(r1, axis=1))"
   ]
  },
  {
   "cell_type": "code",
   "execution_count": 63,
   "metadata": {},
   "outputs": [
    {
     "name": "stdout",
     "output_type": "stream",
     "text": [
      "tf.Tensor(\n",
      "[[ 1.  3.  4.]\n",
      " [ 8.  6.  0.]\n",
      " [30. 12.  5.]\n",
      " [71.  6.  9.]], shape=(4, 3), dtype=float16)\n"
     ]
    }
   ],
   "source": [
    "r2 = tf.constant([\n",
    "    [1,3,4],\n",
    "    [8,6,0],\n",
    "    [30,12,5],\n",
    "    [71,6,9]\n",
    "],dtype = tf.float16)\n",
    "\n",
    "\n",
    "print(r2)"
   ]
  },
  {
   "cell_type": "code",
   "execution_count": 64,
   "metadata": {},
   "outputs": [
    {
     "name": "stdout",
     "output_type": "stream",
     "text": [
      "tf.Tensor(19.05, shape=(), dtype=float16)\n",
      "tf.Tensor([27.3    3.27   3.201], shape=(3,), dtype=float16)\n",
      "tf.Tensor([ 1.247  3.4   10.52  29.95 ], shape=(4,), dtype=float16)\n"
     ]
    }
   ],
   "source": [
    "print(tf.math.reduce_std(r2))\n",
    "print(tf.math.reduce_std(r2,axis=0))\n",
    "print(tf.math.reduce_std(r2, axis=1))"
   ]
  },
  {
   "cell_type": "markdown",
   "metadata": {},
   "source": [
    "    - tf sigmoid function"
   ]
  },
  {
   "cell_type": "code",
   "execution_count": 68,
   "metadata": {},
   "outputs": [],
   "source": [
    "# x = tf.constant([1,3,4])\n",
    "# tf.math.sigmoid(x)\n",
    "\n",
    "\n",
    "# the above code will give an error bexause the sigmoid function is only valid for the float, doubl evalus \n",
    "\n",
    "# list of allowed values \n",
    "# DT_BFLOAT16, DT_HALF, DT_FLOAT, DT_DOUBLE, DT_COMPLEX64, DT_COMPLEX128"
   ]
  },
  {
   "cell_type": "code",
   "execution_count": 69,
   "metadata": {},
   "outputs": [
    {
     "data": {
      "text/plain": [
       "<tf.Tensor: shape=(3,), dtype=float16, numpy=array([0.731 , 0.9526, 0.982 ], dtype=float16)>"
      ]
     },
     "execution_count": 69,
     "metadata": {},
     "output_type": "execute_result"
    }
   ],
   "source": [
    "x = tf.constant([1,3,4], dtype = tf.float16)\n",
    "tf.math.sigmoid(x)"
   ]
  },
  {
   "cell_type": "markdown",
   "metadata": {},
   "source": [
    "    - tf.math.top_k"
   ]
  },
  {
   "cell_type": "code",
   "execution_count": 71,
   "metadata": {},
   "outputs": [
    {
     "name": "stdout",
     "output_type": "stream",
     "text": [
      "TopKV2(values=<tf.Tensor: shape=(1,), dtype=float16, numpy=array([4.], dtype=float16)>, indices=<tf.Tensor: shape=(1,), dtype=int32, numpy=array([2])>)\n"
     ]
    }
   ],
   "source": [
    "print(tf.math.top_k(x))"
   ]
  },
  {
   "cell_type": "code",
   "execution_count": 73,
   "metadata": {},
   "outputs": [],
   "source": [
    "# print(tf.math.top_k(x, k =5))"
   ]
  },
  {
   "cell_type": "code",
   "execution_count": 75,
   "metadata": {},
   "outputs": [
    {
     "name": "stdout",
     "output_type": "stream",
     "text": [
      "TopKV2(values=<tf.Tensor: shape=(3,), dtype=int32, numpy=array([99, 98, 96])>, indices=<tf.Tensor: shape=(3,), dtype=int32, numpy=array([5, 2, 9])>)\n"
     ]
    }
   ],
   "source": [
    "result = tf.math.top_k([1, 2, 98, 1, 1, 99, 3, 1, 3, 96, 4, 1], k = 3)\n",
    "print(result)"
   ]
  },
  {
   "cell_type": "code",
   "execution_count": 87,
   "metadata": {},
   "outputs": [
    {
     "name": "stdout",
     "output_type": "stream",
     "text": [
      "TopKV2(values=<tf.Tensor: shape=(12,), dtype=int32, numpy=array([99, 98, 96,  4,  3,  3,  2,  1,  1,  1,  1,  1])>, indices=<tf.Tensor: shape=(12,), dtype=int32, numpy=array([ 5,  2,  9, 10,  6,  8,  1,  0,  3,  4,  7, 11])>)\n"
     ]
    }
   ],
   "source": [
    "tensor = tf.constant([1, 2, 98, 1, 1, 99, 3, 1, 3, 96, 4, 1])\n",
    "result = tf.math.top_k(tensor, k = tensor.shape[0])\n",
    "print(result)\n",
    "\n",
    "\n",
    "\n",
    "# reverse the tensor using top k method "
   ]
  },
  {
   "cell_type": "code",
   "execution_count": 88,
   "metadata": {},
   "outputs": [
    {
     "data": {
      "text/plain": [
       "TensorShape([12])"
      ]
     },
     "execution_count": 88,
     "metadata": {},
     "output_type": "execute_result"
    }
   ],
   "source": [
    "tensor.shape"
   ]
  },
  {
   "cell_type": "code",
   "execution_count": 89,
   "metadata": {},
   "outputs": [
    {
     "data": {
      "text/plain": [
       "12"
      ]
     },
     "execution_count": 89,
     "metadata": {},
     "output_type": "execute_result"
    }
   ],
   "source": [
    "tensor.shape[0]"
   ]
  },
  {
   "cell_type": "markdown",
   "metadata": {},
   "source": [
    "    - tf.linalg.matmul"
   ]
  },
  {
   "cell_type": "markdown",
   "metadata": {},
   "source": [
    "#linalg --> stands for linear algebra "
   ]
  },
  {
   "cell_type": "code",
   "execution_count": 90,
   "metadata": {},
   "outputs": [
    {
     "name": "stdout",
     "output_type": "stream",
     "text": [
      "tensor a \n",
      "tf.Tensor(\n",
      "[[1 2 3]\n",
      " [4 5 6]], shape=(2, 3), dtype=int32)\n",
      "tensor b\n",
      "tf.Tensor(\n",
      "[[ 7  8]\n",
      " [ 9 10]\n",
      " [11 12]], shape=(3, 2), dtype=int32)\n"
     ]
    }
   ],
   "source": [
    "a = tf.constant([1, 2, 3, 4, 5, 6], shape=[2, 3])\n",
    "b = tf.constant([7, 8, 9, 10, 11, 12], shape=[3, 2])\n",
    "\n",
    "print(\"tensor a \")\n",
    "print(a)\n",
    "print(\"tensor b\")\n",
    "print(b)"
   ]
  },
  {
   "cell_type": "code",
   "execution_count": 93,
   "metadata": {},
   "outputs": [],
   "source": [
    "c = tf.linalg.matmul(a,b)          # matmul stands for matrix multiplications"
   ]
  },
  {
   "cell_type": "code",
   "execution_count": 94,
   "metadata": {},
   "outputs": [
    {
     "name": "stdout",
     "output_type": "stream",
     "text": [
      "tf.Tensor(\n",
      "[[ 58  64]\n",
      " [139 154]], shape=(2, 2), dtype=int32)\n"
     ]
    }
   ],
   "source": [
    "print(c)"
   ]
  },
  {
   "cell_type": "code",
   "execution_count": 95,
   "metadata": {},
   "outputs": [
    {
     "name": "stdout",
     "output_type": "stream",
     "text": [
      "tf.Tensor(\n",
      "[[ 58  64]\n",
      " [139 154]], shape=(2, 2), dtype=int32)\n"
     ]
    }
   ],
   "source": [
    "c = a@b\n",
    "print(c)"
   ]
  },
  {
   "cell_type": "markdown",
   "metadata": {},
   "source": [
    "    -transpose of matrix"
   ]
  },
  {
   "cell_type": "code",
   "execution_count": 99,
   "metadata": {},
   "outputs": [
    {
     "name": "stdout",
     "output_type": "stream",
     "text": [
      "Original matrix\n",
      "tf.Tensor(\n",
      "[[1 2 3]\n",
      " [4 5 6]], shape=(2, 3), dtype=int32)\n",
      "tranpose matric is \n",
      "tf.Tensor(\n",
      "[[1 4]\n",
      " [2 5]\n",
      " [3 6]], shape=(3, 2), dtype=int32)\n"
     ]
    }
   ],
   "source": [
    "print(\"Original matrix\")\n",
    "print(a)\n",
    "\n",
    "print(\"tranpose matric is \")\n",
    "print(tf.transpose(a))"
   ]
  },
  {
   "cell_type": "code",
   "execution_count": 101,
   "metadata": {},
   "outputs": [
    {
     "name": "stdout",
     "output_type": "stream",
     "text": [
      "(2, 3)\n",
      "(3, 2)\n"
     ]
    }
   ],
   "source": [
    "print(a.shape)\n",
    "print(tf.transpose(a).shape)"
   ]
  },
  {
   "cell_type": "code",
   "execution_count": 104,
   "metadata": {},
   "outputs": [
    {
     "name": "stdout",
     "output_type": "stream",
     "text": [
      "orininal matrix is \n",
      "tf.Tensor([1 2 0], shape=(3,), dtype=int32)\n",
      "Transpoded matrix\n",
      "tf.Tensor([1 2 0], shape=(3,), dtype=int32)\n"
     ]
    }
   ],
   "source": [
    "x = tf.constant([1,2,0])\n",
    "print(\"orininal matrix is \")\n",
    "print(x)\n",
    "\n",
    "\n",
    "print(\"Transpoded matrix\")\n",
    "print(tf.transpose(x))"
   ]
  },
  {
   "cell_type": "code",
   "execution_count": 105,
   "metadata": {},
   "outputs": [
    {
     "data": {
      "text/plain": [
       "TensorShape([3])"
      ]
     },
     "execution_count": 105,
     "metadata": {},
     "output_type": "execute_result"
    }
   ],
   "source": [
    "x.shape"
   ]
  },
  {
   "cell_type": "code",
   "execution_count": 106,
   "metadata": {},
   "outputs": [
    {
     "name": "stdout",
     "output_type": "stream",
     "text": [
      "orininal matrix is \n",
      "tf.Tensor(\n",
      "[[1]\n",
      " [2]\n",
      " [0]], shape=(3, 1), dtype=int32)\n",
      "Transpoded matrix\n",
      "tf.Tensor(\n",
      "[[1]\n",
      " [2]\n",
      " [0]], shape=(3, 1), dtype=int32)\n"
     ]
    }
   ],
   "source": [
    "x = tf.constant([[1],[2],[0]])\n",
    "print(\"orininal matrix is \")\n",
    "print(x)\n",
    "tf.transpose(x)\n",
    "\n",
    "print(\"Transpoded matrix\")\n",
    "print(x)"
   ]
  },
  {
   "cell_type": "code",
   "execution_count": 108,
   "metadata": {},
   "outputs": [],
   "source": [
    "twoD = tf.constant(\n",
    "    [[1,5,7],\n",
    "    [7,8,5]]\n",
    ")"
   ]
  },
  {
   "cell_type": "code",
   "execution_count": 109,
   "metadata": {},
   "outputs": [
    {
     "name": "stdout",
     "output_type": "stream",
     "text": [
      "tf.Tensor(\n",
      "[[1 5 7]\n",
      " [7 8 5]], shape=(2, 3), dtype=int32)\n"
     ]
    }
   ],
   "source": [
    "print(twoD)"
   ]
  },
  {
   "cell_type": "code",
   "execution_count": 110,
   "metadata": {},
   "outputs": [
    {
     "data": {
      "text/plain": [
       "<tf.Tensor: shape=(3, 2), dtype=int32, numpy=\n",
       "array([[1, 7],\n",
       "       [5, 8],\n",
       "       [7, 5]])>"
      ]
     },
     "execution_count": 110,
     "metadata": {},
     "output_type": "execute_result"
    }
   ],
   "source": [
    "tf.transpose(twoD)"
   ]
  },
  {
   "cell_type": "code",
   "execution_count": 111,
   "metadata": {},
   "outputs": [
    {
     "name": "stdout",
     "output_type": "stream",
     "text": [
      "tf.Tensor(\n",
      "[[1 5 7]\n",
      " [7 8 5]], shape=(2, 3), dtype=int32)\n"
     ]
    }
   ],
   "source": [
    "print(twoD)"
   ]
  },
  {
   "cell_type": "code",
   "execution_count": 113,
   "metadata": {},
   "outputs": [],
   "source": [
    "mtx1 = tf.constant(\n",
    "    [[1,5,7],\n",
    "    [7,8,5]]\n",
    ")\n",
    "\n",
    "mtx2 = tf.constant(\n",
    "    [[1,5],\n",
    "    [7,8],\n",
    "    [6,8]]\n",
    ")"
   ]
  },
  {
   "cell_type": "code",
   "execution_count": 114,
   "metadata": {},
   "outputs": [
    {
     "data": {
      "text/plain": [
       "<tf.Tensor: shape=(2, 2), dtype=int32, numpy=\n",
       "array([[ 78, 101],\n",
       "       [ 93, 139]])>"
      ]
     },
     "execution_count": 114,
     "metadata": {},
     "output_type": "execute_result"
    }
   ],
   "source": [
    "tf.linalg.matmul(mtx1,mtx2)"
   ]
  },
  {
   "cell_type": "code",
   "execution_count": 115,
   "metadata": {},
   "outputs": [
    {
     "data": {
      "text/plain": [
       "<tf.Tensor: shape=(2, 2), dtype=int32, numpy=\n",
       "array([[ 78, 101],\n",
       "       [ 93, 139]])>"
      ]
     },
     "execution_count": 115,
     "metadata": {},
     "output_type": "execute_result"
    }
   ],
   "source": [
    "mtx1 @ mtx2"
   ]
  },
  {
   "cell_type": "code",
   "execution_count": 116,
   "metadata": {},
   "outputs": [
    {
     "data": {
      "text/plain": [
       "<tf.Tensor: shape=(3, 2), dtype=int32, numpy=\n",
       "array([[1, 7],\n",
       "       [5, 8],\n",
       "       [7, 5]])>"
      ]
     },
     "execution_count": 116,
     "metadata": {},
     "output_type": "execute_result"
    }
   ],
   "source": [
    "tf.transpose(mtx1)"
   ]
  },
  {
   "cell_type": "code",
   "execution_count": 117,
   "metadata": {},
   "outputs": [
    {
     "data": {
      "text/plain": [
       "<tf.Tensor: shape=(2, 3), dtype=int32, numpy=\n",
       "array([[1, 7, 6],\n",
       "       [5, 8, 8]])>"
      ]
     },
     "execution_count": 117,
     "metadata": {},
     "output_type": "execute_result"
    }
   ],
   "source": [
    "tf.transpose(mtx2)"
   ]
  },
  {
   "cell_type": "code",
   "execution_count": null,
   "metadata": {},
   "outputs": [],
   "source": []
  },
  {
   "cell_type": "code",
   "execution_count": null,
   "metadata": {},
   "outputs": [],
   "source": []
  },
  {
   "cell_type": "code",
   "execution_count": null,
   "metadata": {},
   "outputs": [],
   "source": []
  },
  {
   "cell_type": "code",
   "execution_count": null,
   "metadata": {},
   "outputs": [],
   "source": []
  },
  {
   "cell_type": "code",
   "execution_count": null,
   "metadata": {},
   "outputs": [],
   "source": []
  },
  {
   "cell_type": "code",
   "execution_count": null,
   "metadata": {},
   "outputs": [],
   "source": []
  },
  {
   "cell_type": "code",
   "execution_count": null,
   "metadata": {},
   "outputs": [],
   "source": []
  },
  {
   "cell_type": "code",
   "execution_count": null,
   "metadata": {},
   "outputs": [],
   "source": []
  },
  {
   "cell_type": "code",
   "execution_count": null,
   "metadata": {},
   "outputs": [],
   "source": []
  },
  {
   "cell_type": "code",
   "execution_count": null,
   "metadata": {},
   "outputs": [],
   "source": []
  },
  {
   "cell_type": "code",
   "execution_count": null,
   "metadata": {},
   "outputs": [],
   "source": []
  },
  {
   "cell_type": "code",
   "execution_count": null,
   "metadata": {},
   "outputs": [],
   "source": []
  },
  {
   "cell_type": "code",
   "execution_count": null,
   "metadata": {},
   "outputs": [],
   "source": []
  },
  {
   "cell_type": "code",
   "execution_count": null,
   "metadata": {},
   "outputs": [],
   "source": []
  },
  {
   "cell_type": "code",
   "execution_count": null,
   "metadata": {},
   "outputs": [],
   "source": []
  },
  {
   "cell_type": "code",
   "execution_count": null,
   "metadata": {},
   "outputs": [],
   "source": []
  },
  {
   "cell_type": "code",
   "execution_count": null,
   "metadata": {},
   "outputs": [],
   "source": []
  },
  {
   "cell_type": "code",
   "execution_count": null,
   "metadata": {},
   "outputs": [],
   "source": []
  },
  {
   "cell_type": "code",
   "execution_count": null,
   "metadata": {},
   "outputs": [],
   "source": []
  },
  {
   "cell_type": "code",
   "execution_count": null,
   "metadata": {},
   "outputs": [],
   "source": []
  },
  {
   "cell_type": "code",
   "execution_count": null,
   "metadata": {},
   "outputs": [],
   "source": []
  },
  {
   "cell_type": "code",
   "execution_count": null,
   "metadata": {},
   "outputs": [],
   "source": []
  },
  {
   "cell_type": "code",
   "execution_count": null,
   "metadata": {},
   "outputs": [],
   "source": []
  },
  {
   "cell_type": "code",
   "execution_count": null,
   "metadata": {},
   "outputs": [],
   "source": []
  },
  {
   "cell_type": "code",
   "execution_count": null,
   "metadata": {},
   "outputs": [],
   "source": []
  },
  {
   "cell_type": "code",
   "execution_count": null,
   "metadata": {},
   "outputs": [],
   "source": []
  },
  {
   "cell_type": "code",
   "execution_count": null,
   "metadata": {},
   "outputs": [],
   "source": []
  }
 ],
 "metadata": {
  "kernelspec": {
   "display_name": "AIML",
   "language": "python",
   "name": "python3"
  },
  "language_info": {
   "codemirror_mode": {
    "name": "ipython",
    "version": 3
   },
   "file_extension": ".py",
   "mimetype": "text/x-python",
   "name": "python",
   "nbconvert_exporter": "python",
   "pygments_lexer": "ipython3",
   "version": "3.11.5"
  },
  "orig_nbformat": 4
 },
 "nbformat": 4,
 "nbformat_minor": 2
}
