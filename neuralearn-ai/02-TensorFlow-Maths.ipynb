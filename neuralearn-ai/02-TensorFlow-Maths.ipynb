{
 "cells": [
  {
   "cell_type": "code",
   "execution_count": 2,
   "metadata": {},
   "outputs": [],
   "source": [
    "a = 5"
   ]
  },
  {
   "cell_type": "code",
   "execution_count": 3,
   "metadata": {},
   "outputs": [],
   "source": [
    "import tensorflow as tf"
   ]
  },
  {
   "cell_type": "code",
   "execution_count": 4,
   "metadata": {},
   "outputs": [],
   "source": [
    "x = tf.constant([5, -4 , 6])"
   ]
  },
  {
   "cell_type": "code",
   "execution_count": 5,
   "metadata": {},
   "outputs": [
    {
     "name": "stdout",
     "output_type": "stream",
     "text": [
      "tf.Tensor([5 4 6], shape=(3,), dtype=int32)\n"
     ]
    }
   ],
   "source": [
    "abs_x = tf.math.abs(x)\n",
    "print(abs_x)"
   ]
  },
  {
   "cell_type": "code",
   "execution_count": 6,
   "metadata": {},
   "outputs": [
    {
     "name": "stdout",
     "output_type": "stream",
     "text": [
      "tf.Tensor(\n",
      "[[-2.25+4.75j]\n",
      " [-3.25+5.75j]], shape=(2, 1), dtype=complex128)\n",
      "tf.Tensor(\n",
      "[[5.25594901]\n",
      " [6.60492241]], shape=(2, 1), dtype=float64)\n"
     ]
    }
   ],
   "source": [
    "# complex number\n",
    "x = tf.constant([[-2.25 + 4.75j], \n",
    "                 [-3.25 + 5.75j]])\n",
    "x_abs = tf.abs(x)\n",
    "print(x)\n",
    "print(x_abs)\n",
    "\n"
   ]
  },
  {
   "cell_type": "code",
   "execution_count": 7,
   "metadata": {},
   "outputs": [
    {
     "name": "stdout",
     "output_type": "stream",
     "text": [
      "tf.Tensor([4.], shape=(1,), dtype=float32)\n",
      "tf.Tensor([2.], shape=(1,), dtype=float32)\n"
     ]
    }
   ],
   "source": [
    "x = tf.constant([4.0],)\n",
    "x_abs = tf.math.abs(x)\n",
    "print(x_abs)\n",
    "print(tf.math.sqrt(x))"
   ]
  },
  {
   "cell_type": "code",
   "execution_count": 8,
   "metadata": {},
   "outputs": [
    {
     "name": "stdout",
     "output_type": "stream",
     "text": [
      "a + b =  tf.Tensor([11 22 33 44 55], shape=(5,), dtype=int32)\n",
      "a - b =  tf.Tensor([ -9 -18 -27 -36 -45], shape=(5,), dtype=int32)\n",
      "a * b =  tf.Tensor([ 10  40  90 160 250], shape=(5,), dtype=int32)\n",
      "a / b =  tf.Tensor([0.1 0.1 0.1 0.1 0.1], shape=(5,), dtype=float64)\n"
     ]
    }
   ],
   "source": [
    "a = tf.constant([1, 2, 3, 4, 5])\n",
    "b = tf.constant([10, 20, 30, 40, 50])\n",
    "\n",
    "result = tf.math.add (a,b)\n",
    "print(\"a + b = \",result)\n",
    "\n",
    "result = tf.math.subtract (a,b)\n",
    "print(\"a - b = \",result)\n",
    "\n",
    "result = tf.math.multiply (a,b)\n",
    "print(\"a * b = \",result)\n",
    "\n",
    "result = tf.math.divide (a,b)\n",
    "print(\"a / b = \",result)"
   ]
  },
  {
   "cell_type": "code",
   "execution_count": 9,
   "metadata": {},
   "outputs": [
    {
     "data": {
      "text/plain": [
       "<tf.Tensor: shape=(), dtype=float32, numpy=0.0>"
      ]
     },
     "execution_count": 9,
     "metadata": {},
     "output_type": "execute_result"
    }
   ],
   "source": [
    "tf.constant(3.0) / 0.0\n",
    "tf.math.divide_no_nan(3.0, 0.0)\n"
   ]
  },
  {
   "cell_type": "code",
   "execution_count": 10,
   "metadata": {},
   "outputs": [
    {
     "name": "stdout",
     "output_type": "stream",
     "text": [
      "In general , a / b =  tf.Tensor([0.1 0.1 inf 0.1 0.1], shape=(5,), dtype=float32)\n",
      "Using divide_no_nan, a / b =  tf.Tensor([0.1 0.1 0.  0.1 0.1], shape=(5,), dtype=float32)\n"
     ]
    }
   ],
   "source": [
    "a = tf.constant([1, 2, 3, 4, 5], dtype=tf.float32)\n",
    "b = tf.constant([10, 20, 0, 40, 50], dtype=tf.float32)\n",
    "\n",
    "\n",
    "print(\"In general , a / b = \", tf.math.divide(a,b))\n",
    "print(\"Using divide_no_nan, a / b = \", tf.math.divide_no_nan(a,b))"
   ]
  },
  {
   "cell_type": "code",
   "execution_count": 11,
   "metadata": {},
   "outputs": [
    {
     "name": "stdout",
     "output_type": "stream",
     "text": [
      "a + b =  tf.Tensor([ 8.  9. 10. 11. 12.], shape=(5,), dtype=float32)\n",
      "a - b =  tf.Tensor([-6. -5. -4. -3. -2.], shape=(5,), dtype=float32)\n"
     ]
    }
   ],
   "source": [
    "a = tf.constant([1, 2, 3, 4, 5], dtype=tf.float32)\n",
    "b = tf.constant([7], dtype=tf.float32)\n",
    "\n",
    "print(\"a + b = \",tf.math.add(a,b))\n",
    "print(\"a - b = \",tf.math.subtract(a,b))"
   ]
  },
  {
   "cell_type": "code",
   "execution_count": 12,
   "metadata": {},
   "outputs": [
    {
     "name": "stdout",
     "output_type": "stream",
     "text": [
      "a + b =  tf.Tensor(\n",
      "[[ 8.  9. 10. 11. 12.]\n",
      " [13. 14. 15. 16. 17.]], shape=(2, 5), dtype=float32)\n",
      "a - b =  tf.Tensor(\n",
      "[[-6. -5. -4. -3. -2.]\n",
      " [-1.  0.  1.  2.  3.]], shape=(2, 5), dtype=float32)\n"
     ]
    }
   ],
   "source": [
    "a = tf.constant([[1, 2, 3, 4, 5], [6,7,8,9,10]], dtype=tf.float32)\n",
    "b = tf.constant([7], dtype=tf.float32)\n",
    "\n",
    "print(\"a + b = \",tf.math.add(a,b))\n",
    "print(\"a - b = \",tf.math.subtract(a,b))"
   ]
  },
  {
   "cell_type": "code",
   "execution_count": 13,
   "metadata": {},
   "outputs": [
    {
     "name": "stdout",
     "output_type": "stream",
     "text": [
      "a + b =  tf.Tensor(\n",
      "[[ 8.  9. 10. 11. 12.]\n",
      " [11. 12. 13. 14. 15.]], shape=(2, 5), dtype=float32)\n",
      "a - b =  tf.Tensor(\n",
      "[[-6. -5. -4. -3. -2.]\n",
      " [ 1.  2.  3.  4.  5.]], shape=(2, 5), dtype=float32)\n"
     ]
    }
   ],
   "source": [
    "a = tf.constant([[1, 2, 3, 4, 5], [6,7,8,9,10]], dtype=tf.float32)\n",
    "b = tf.constant([[7], [5]], dtype=tf.float32)\n",
    "\n",
    "print(\"a + b = \",tf.math.add(a,b))\n",
    "print(\"a - b = \",tf.math.subtract(a,b))"
   ]
  },
  {
   "cell_type": "code",
   "execution_count": 14,
   "metadata": {},
   "outputs": [
    {
     "name": "stdout",
     "output_type": "stream",
     "text": [
      "a + b =  tf.Tensor(\n",
      "[[ 7. 14. 21. 28. 35.]\n",
      " [30. 35. 40. 45. 50.]], shape=(2, 5), dtype=float32)\n",
      "a - b =  tf.Tensor(\n",
      "[[ 7. 14. 21. 28. 35.]\n",
      " [30. 35. 40. 45. 50.]], shape=(2, 5), dtype=float32)\n"
     ]
    }
   ],
   "source": [
    "a = tf.constant([[1, 2, 3, 4, 5], [6,7,8,9,10]], dtype=tf.float32)\n",
    "b = tf.constant([[7], [5]], dtype=tf.float32)\n",
    "\n",
    "print(\"a + b = \",tf.math.multiply(a,b))\n",
    "print(\"a - b = \",tf.math.multiply_no_nan(a,b))"
   ]
  },
  {
   "cell_type": "code",
   "execution_count": 15,
   "metadata": {},
   "outputs": [
    {
     "name": "stdout",
     "output_type": "stream",
     "text": [
      "a + b =  tf.Tensor(\n",
      "[[ 7. 14. 21. 28. 35.]\n",
      " [ 5. 10. 15. 20. 25.]\n",
      " [ 3.  6.  9. 12. 15.]], shape=(3, 5), dtype=float32)\n",
      "shape of a is  (1, 5)\n",
      "shape of b is  (3, 1)\n",
      "shape of result is  (3, 5)\n"
     ]
    }
   ],
   "source": [
    "a = tf.constant([[1, 2, 3, 4, 5]], dtype=tf.float32)\n",
    "b = tf.constant([[7], [5], [3]], dtype=tf.float32)\n",
    "\n",
    "result = tf.math.multiply(a,b)\n",
    "\n",
    "print(\"a + b = \",tf.math.multiply(a,b))\n",
    "\n",
    "print(\"shape of a is \", a.shape)\n",
    "print(\"shape of b is \",b.shape)\n",
    "print(\"shape of result is \",result.shape)\n",
    "\n",
    "\n",
    "\n",
    "\n",
    "## Visulaie this as like\n",
    "\n",
    "# 1, 2, 3, 4, 5               7 7 7 7 7            7. 14. 21. 28. 35.\n",
    "# 1, 2, 3, 4, 5       *       5 5 5 5 5    =       5. 10. 15. 20. 25.\n",
    "# 1, 2, 3, 4, 5               3 3 3 3 3            3.  6.  9. 12. 15.\n"
   ]
  },
  {
   "cell_type": "markdown",
   "metadata": {},
   "source": [
    "    tf.math.argmin"
   ]
  },
  {
   "cell_type": "code",
   "execution_count": 16,
   "metadata": {},
   "outputs": [
    {
     "data": {
      "text/plain": [
       "<tf.Tensor: shape=(5,), dtype=float32, numpy=array([ 1., 14.,  0.,  4., 50.], dtype=float32)>"
      ]
     },
     "execution_count": 16,
     "metadata": {},
     "output_type": "execute_result"
    }
   ],
   "source": [
    "# tf.math.minimum\n",
    "a = tf.constant([1, 21, 3, 4, 55], dtype=tf.float32)\n",
    "b = tf.constant([10, 14, 0, 40, 50], dtype=tf.float32)\n",
    "\n",
    "tf.math.minimum(a,b)"
   ]
  },
  {
   "cell_type": "markdown",
   "metadata": {},
   "source": [
    "    - tf.math.argmax (tensor, axis)\n"
   ]
  },
  {
   "cell_type": "code",
   "execution_count": 17,
   "metadata": {},
   "outputs": [
    {
     "name": "stdout",
     "output_type": "stream",
     "text": [
      "tf.Tensor(2, shape=(), dtype=int64)\n"
     ]
    }
   ],
   "source": [
    "a = tf.constant([2,20,30,3,6])\n",
    "print(tf.math.argmax(a))         # return the index of element where maximum element is present"
   ]
  },
  {
   "cell_type": "code",
   "execution_count": 18,
   "metadata": {},
   "outputs": [
    {
     "name": "stdout",
     "output_type": "stream",
     "text": [
      "tf.Tensor(0, shape=(), dtype=int64)\n"
     ]
    }
   ],
   "source": [
    "a = tf.constant([200,120,130,3,6])\n",
    "print(tf.math.argmax(a))"
   ]
  },
  {
   "cell_type": "code",
   "execution_count": 19,
   "metadata": {},
   "outputs": [
    {
     "name": "stdout",
     "output_type": "stream",
     "text": [
      "tf.Tensor([2 2 0 2 2], shape=(5,), dtype=int64)\n",
      "tf.Tensor([2 2 1], shape=(3,), dtype=int64)\n"
     ]
    }
   ],
   "source": [
    "b = tf.constant(\n",
    "    [[2,20,30,3,6],\n",
    "    [3,11,16,1,8],\n",
    "    [14,45,23,5,27]]\n",
    ")\n",
    "\n",
    "print(tf.math.argmax(b,axis = 0))       # axis =0 means in a column\n",
    "print(tf.math.argmax(b,axis = 1))       # axis =1 means in a column"
   ]
  },
  {
   "cell_type": "code",
   "execution_count": 20,
   "metadata": {},
   "outputs": [
    {
     "name": "stdout",
     "output_type": "stream",
     "text": [
      "tf.Tensor([0 1 1 1 0], shape=(5,), dtype=int64)\n",
      "tf.Tensor([0 3 3], shape=(3,), dtype=int64)\n"
     ]
    }
   ],
   "source": [
    "print(tf.math.argmin(b, axis=0))\n",
    "print(tf.math.argmin(b, axis=1))"
   ]
  },
  {
   "cell_type": "code",
   "execution_count": 21,
   "metadata": {},
   "outputs": [
    {
     "name": "stdout",
     "output_type": "stream",
     "text": [
      "(3, 2, 3)\n",
      "tf.Tensor(\n",
      "[[0 0 1]\n",
      " [1 0 1]], shape=(2, 3), dtype=int64)\n",
      "tf.Tensor(\n",
      "[[0 0 1]\n",
      " [1 0 1]], shape=(2, 3), dtype=int64)\n",
      "tf.Tensor(\n",
      "[[1 1 0]\n",
      " [1 1 0]\n",
      " [1 1 0]], shape=(3, 3), dtype=int64)\n"
     ]
    }
   ],
   "source": [
    "c = tf.constant([\n",
    "    [\n",
    "       [1,5,7],\n",
    "       [7,8,5] \n",
    "    ],\n",
    "    [\n",
    "       [1,5,8],\n",
    "       [9,8,6] \n",
    "    ],\n",
    "    [\n",
    "       [1,3,7],\n",
    "       [7,4,5] \n",
    "    ]   \n",
    "])\n",
    "\n",
    "\n",
    "print(c.shape) \n",
    "print(tf.math.argmax(c))        # defaukt axis is 0 i.e \n",
    "print(tf.math.argmax(c,axis = 0))\n",
    "print(tf.math.argmax(c, axis= 1))"
   ]
  },
  {
   "cell_type": "code",
   "execution_count": 22,
   "metadata": {},
   "outputs": [
    {
     "data": {
      "text/plain": [
       "TensorShape([2, 2, 3])"
      ]
     },
     "execution_count": 22,
     "metadata": {},
     "output_type": "execute_result"
    }
   ],
   "source": [
    "image = tf.constant([[[0.1, 0.2, 0.9], [0.7, 0.4, 0.3]], [[0.5, 0.6, 0.2], [0.8, 0.1, 0.4]]])\n",
    "\n",
    "image.shape"
   ]
  },
  {
   "cell_type": "code",
   "execution_count": 23,
   "metadata": {},
   "outputs": [],
   "source": [
    "matrix = tf.constant([[1, 2, 3], [4, 5, 6], [7, 8, 9]])"
   ]
  },
  {
   "cell_type": "markdown",
   "metadata": {},
   "source": [
    "    - tensor comparison"
   ]
  },
  {
   "cell_type": "code",
   "execution_count": 24,
   "metadata": {},
   "outputs": [
    {
     "data": {
      "text/plain": [
       "<tf.Tensor: shape=(2,), dtype=bool, numpy=array([ True, False])>"
      ]
     },
     "execution_count": 24,
     "metadata": {},
     "output_type": "execute_result"
    }
   ],
   "source": [
    "x = tf.constant([2, 4])\n",
    "y = tf.constant([2])\n",
    "\n",
    "tf.math.equal(x, y)"
   ]
  },
  {
   "cell_type": "code",
   "execution_count": 25,
   "metadata": {},
   "outputs": [
    {
     "name": "stdout",
     "output_type": "stream",
     "text": [
      "tf.Tensor([ True False], shape=(2,), dtype=bool)\n"
     ]
    }
   ],
   "source": [
    "print(tf.math.equal(x,y))"
   ]
  },
  {
   "cell_type": "code",
   "execution_count": 26,
   "metadata": {},
   "outputs": [],
   "source": [
    "y = tf.constant([2])\n",
    "v = tf.constant(2)"
   ]
  },
  {
   "cell_type": "code",
   "execution_count": 27,
   "metadata": {},
   "outputs": [
    {
     "name": "stdout",
     "output_type": "stream",
     "text": [
      "(1,)\n",
      "()\n"
     ]
    }
   ],
   "source": [
    "print(y.shape)\n",
    "print(v.shape)"
   ]
  },
  {
   "cell_type": "code",
   "execution_count": 28,
   "metadata": {},
   "outputs": [
    {
     "name": "stdout",
     "output_type": "stream",
     "text": [
      "tf.Tensor(\n",
      "[[False False False False False]\n",
      " [False False False False False]\n",
      " [False False False  True False]], shape=(3, 5), dtype=bool)\n"
     ]
    }
   ],
   "source": [
    "b = tf.constant(\n",
    "    [[2,20,30,3,6],\n",
    "    [3,11,16,1,8],\n",
    "    [14,45,23,5,27]]\n",
    ")\n",
    "\n",
    "a = tf.constant([5])\n",
    "\n",
    "print(tf.math.equal(b,a))"
   ]
  },
  {
   "cell_type": "markdown",
   "metadata": {},
   "source": [
    "    - power function -> tf.pow()"
   ]
  },
  {
   "cell_type": "code",
   "execution_count": 29,
   "metadata": {},
   "outputs": [
    {
     "data": {
      "text/plain": [
       "<tf.Tensor: shape=(), dtype=int32, numpy=8>"
      ]
     },
     "execution_count": 29,
     "metadata": {},
     "output_type": "execute_result"
    }
   ],
   "source": [
    "tf.pow(tf.constant(2), tf.constant(3))"
   ]
  },
  {
   "cell_type": "code",
   "execution_count": 30,
   "metadata": {},
   "outputs": [
    {
     "data": {
      "text/plain": [
       "<tf.Tensor: shape=(2, 2), dtype=int32, numpy=\n",
       "array([[ 8,  1],\n",
       "       [ 3, 81]])>"
      ]
     },
     "execution_count": 30,
     "metadata": {},
     "output_type": "execute_result"
    }
   ],
   "source": [
    "x = tf.constant([\n",
    "    [2,2],\n",
    "    [3,3]\n",
    "])\n",
    "\n",
    "y = tf.constant([\n",
    "    [3,0],\n",
    "    [1,4]\n",
    "])\n",
    "\n",
    "tf.pow(x,y)"
   ]
  },
  {
   "cell_type": "code",
   "execution_count": 31,
   "metadata": {},
   "outputs": [
    {
     "name": "stdout",
     "output_type": "stream",
     "text": [
      "tf.Tensor(\n",
      "[[ 8  1]\n",
      " [ 3 81]], shape=(2, 2), dtype=int32)\n"
     ]
    }
   ],
   "source": [
    "print(tf.pow(x,y))"
   ]
  },
  {
   "cell_type": "markdown",
   "metadata": {},
   "source": [
    "    - reduce functions"
   ]
  },
  {
   "cell_type": "code",
   "execution_count": 32,
   "metadata": {},
   "outputs": [
    {
     "name": "stdout",
     "output_type": "stream",
     "text": [
      "tf.Tensor(\n",
      "[[ 1  3  4]\n",
      " [ 8  6  0]\n",
      " [30 12  5]\n",
      " [71  6  9]], shape=(4, 3), dtype=int32)\n"
     ]
    }
   ],
   "source": [
    "r1 = tf.constant([\n",
    "    [1,3,4],\n",
    "    [8,6,0],\n",
    "    [30,12,5],\n",
    "    [71,6,9]\n",
    "])\n",
    "\n",
    "\n",
    "print(r1)\n",
    "\n"
   ]
  },
  {
   "cell_type": "code",
   "execution_count": 33,
   "metadata": {},
   "outputs": [
    {
     "name": "stdout",
     "output_type": "stream",
     "text": [
      "tf.Tensor(155, shape=(), dtype=int32)\n"
     ]
    }
   ],
   "source": [
    "print(tf.reduce_sum(r1))       # default it will sum to all values"
   ]
  },
  {
   "cell_type": "code",
   "execution_count": 34,
   "metadata": {},
   "outputs": [
    {
     "name": "stdout",
     "output_type": "stream",
     "text": [
      "tf.Tensor([110  27  18], shape=(3,), dtype=int32)\n"
     ]
    }
   ],
   "source": [
    "print(tf.reduce_sum(r1,axis = 0))      # column"
   ]
  },
  {
   "cell_type": "code",
   "execution_count": 35,
   "metadata": {},
   "outputs": [
    {
     "name": "stdout",
     "output_type": "stream",
     "text": [
      "tf.Tensor([ 8 14 47 86], shape=(4,), dtype=int32)\n"
     ]
    }
   ],
   "source": [
    "print(tf.reduce_sum(r1, axis = 1)) # row"
   ]
  },
  {
   "cell_type": "code",
   "execution_count": 36,
   "metadata": {},
   "outputs": [
    {
     "data": {
      "text/plain": [
       "<tf.Tensor: shape=(), dtype=int32, numpy=0>"
      ]
     },
     "execution_count": 36,
     "metadata": {},
     "output_type": "execute_result"
    }
   ],
   "source": [
    "tf.reduce_min(r1)"
   ]
  },
  {
   "cell_type": "code",
   "execution_count": 37,
   "metadata": {},
   "outputs": [
    {
     "name": "stdout",
     "output_type": "stream",
     "text": [
      "tf.Tensor(0, shape=(), dtype=int32)\n",
      "tf.Tensor(71, shape=(), dtype=int32)\n"
     ]
    }
   ],
   "source": [
    "print(tf.reduce_min(r1))\n",
    "print(tf.reduce_max(r1))"
   ]
  },
  {
   "cell_type": "code",
   "execution_count": 38,
   "metadata": {},
   "outputs": [
    {
     "name": "stdout",
     "output_type": "stream",
     "text": [
      "tf.Tensor(12, shape=(), dtype=int32)\n"
     ]
    }
   ],
   "source": [
    "print(tf.reduce_mean(r1))\n"
   ]
  },
  {
   "cell_type": "code",
   "execution_count": 39,
   "metadata": {},
   "outputs": [
    {
     "name": "stdout",
     "output_type": "stream",
     "text": [
      "tf.Tensor([110  27  18], shape=(3,), dtype=int32)\n",
      "tf.Tensor([ 8 14 47 86], shape=(4,), dtype=int32)\n"
     ]
    }
   ],
   "source": [
    "print(tf.reduce_sum(r1, axis=0))\n",
    "print(tf.reduce_sum(r1, axis=1))"
   ]
  },
  {
   "cell_type": "code",
   "execution_count": 40,
   "metadata": {},
   "outputs": [
    {
     "name": "stdout",
     "output_type": "stream",
     "text": [
      "tf.Tensor(\n",
      "[[ 1.  3.  4.]\n",
      " [ 8.  6.  0.]\n",
      " [30. 12.  5.]\n",
      " [71.  6.  9.]], shape=(4, 3), dtype=float16)\n"
     ]
    }
   ],
   "source": [
    "r2 = tf.constant([\n",
    "    [1,3,4],\n",
    "    [8,6,0],\n",
    "    [30,12,5],\n",
    "    [71,6,9]\n",
    "],dtype = tf.float16)\n",
    "\n",
    "\n",
    "print(r2)"
   ]
  },
  {
   "cell_type": "code",
   "execution_count": 41,
   "metadata": {},
   "outputs": [
    {
     "name": "stdout",
     "output_type": "stream",
     "text": [
      "tf.Tensor(19.05, shape=(), dtype=float16)\n",
      "tf.Tensor([27.3    3.27   3.201], shape=(3,), dtype=float16)\n",
      "tf.Tensor([ 1.247  3.4   10.52  29.95 ], shape=(4,), dtype=float16)\n"
     ]
    }
   ],
   "source": [
    "print(tf.math.reduce_std(r2))\n",
    "print(tf.math.reduce_std(r2,axis=0))\n",
    "print(tf.math.reduce_std(r2, axis=1))"
   ]
  },
  {
   "cell_type": "markdown",
   "metadata": {},
   "source": [
    "    - tf sigmoid function"
   ]
  },
  {
   "cell_type": "code",
   "execution_count": 42,
   "metadata": {},
   "outputs": [],
   "source": [
    "# x = tf.constant([1,3,4])\n",
    "# tf.math.sigmoid(x)\n",
    "\n",
    "\n",
    "# the above code will give an error bexause the sigmoid function is only valid for the float, doubl evalus \n",
    "\n",
    "# list of allowed values \n",
    "# DT_BFLOAT16, DT_HALF, DT_FLOAT, DT_DOUBLE, DT_COMPLEX64, DT_COMPLEX128"
   ]
  },
  {
   "cell_type": "code",
   "execution_count": 43,
   "metadata": {},
   "outputs": [
    {
     "data": {
      "text/plain": [
       "<tf.Tensor: shape=(3,), dtype=float16, numpy=array([0.731 , 0.9526, 0.982 ], dtype=float16)>"
      ]
     },
     "execution_count": 43,
     "metadata": {},
     "output_type": "execute_result"
    }
   ],
   "source": [
    "x = tf.constant([1,3,4], dtype = tf.float16)\n",
    "tf.math.sigmoid(x)"
   ]
  },
  {
   "cell_type": "markdown",
   "metadata": {},
   "source": [
    "    - tf.math.top_k"
   ]
  },
  {
   "cell_type": "code",
   "execution_count": 44,
   "metadata": {},
   "outputs": [
    {
     "name": "stdout",
     "output_type": "stream",
     "text": [
      "TopKV2(values=<tf.Tensor: shape=(1,), dtype=float16, numpy=array([4.], dtype=float16)>, indices=<tf.Tensor: shape=(1,), dtype=int32, numpy=array([2])>)\n"
     ]
    }
   ],
   "source": [
    "print(tf.math.top_k(x))"
   ]
  },
  {
   "cell_type": "code",
   "execution_count": 45,
   "metadata": {},
   "outputs": [],
   "source": [
    "# print(tf.math.top_k(x, k =5))"
   ]
  },
  {
   "cell_type": "code",
   "execution_count": 46,
   "metadata": {},
   "outputs": [
    {
     "name": "stdout",
     "output_type": "stream",
     "text": [
      "TopKV2(values=<tf.Tensor: shape=(3,), dtype=int32, numpy=array([99, 98, 96])>, indices=<tf.Tensor: shape=(3,), dtype=int32, numpy=array([5, 2, 9])>)\n"
     ]
    }
   ],
   "source": [
    "result = tf.math.top_k([1, 2, 98, 1, 1, 99, 3, 1, 3, 96, 4, 1], k = 3)\n",
    "print(result)"
   ]
  },
  {
   "cell_type": "code",
   "execution_count": 47,
   "metadata": {},
   "outputs": [
    {
     "name": "stdout",
     "output_type": "stream",
     "text": [
      "TopKV2(values=<tf.Tensor: shape=(12,), dtype=int32, numpy=array([99, 98, 96,  4,  3,  3,  2,  1,  1,  1,  1,  1])>, indices=<tf.Tensor: shape=(12,), dtype=int32, numpy=array([ 5,  2,  9, 10,  6,  8,  1,  0,  3,  4,  7, 11])>)\n"
     ]
    }
   ],
   "source": [
    "tensor = tf.constant([1, 2, 98, 1, 1, 99, 3, 1, 3, 96, 4, 1])\n",
    "result = tf.math.top_k(tensor, k = tensor.shape[0])\n",
    "print(result)\n",
    "\n",
    "\n",
    "\n",
    "# reverse the tensor using top k method "
   ]
  },
  {
   "cell_type": "code",
   "execution_count": 48,
   "metadata": {},
   "outputs": [
    {
     "data": {
      "text/plain": [
       "TensorShape([12])"
      ]
     },
     "execution_count": 48,
     "metadata": {},
     "output_type": "execute_result"
    }
   ],
   "source": [
    "tensor.shape"
   ]
  },
  {
   "cell_type": "code",
   "execution_count": 49,
   "metadata": {},
   "outputs": [
    {
     "data": {
      "text/plain": [
       "12"
      ]
     },
     "execution_count": 49,
     "metadata": {},
     "output_type": "execute_result"
    }
   ],
   "source": [
    "tensor.shape[0]"
   ]
  },
  {
   "cell_type": "markdown",
   "metadata": {},
   "source": [
    "    - tf.linalg.matmul"
   ]
  },
  {
   "cell_type": "markdown",
   "metadata": {},
   "source": [
    "#linalg --> stands for linear algebra "
   ]
  },
  {
   "cell_type": "code",
   "execution_count": 50,
   "metadata": {},
   "outputs": [
    {
     "name": "stdout",
     "output_type": "stream",
     "text": [
      "tensor a \n",
      "tf.Tensor(\n",
      "[[1 2 3]\n",
      " [4 5 6]], shape=(2, 3), dtype=int32)\n",
      "tensor b\n",
      "tf.Tensor(\n",
      "[[ 7  8]\n",
      " [ 9 10]\n",
      " [11 12]], shape=(3, 2), dtype=int32)\n"
     ]
    }
   ],
   "source": [
    "a = tf.constant([1, 2, 3, 4, 5, 6], shape=[2, 3])\n",
    "b = tf.constant([7, 8, 9, 10, 11, 12], shape=[3, 2])\n",
    "\n",
    "print(\"tensor a \")\n",
    "print(a)\n",
    "print(\"tensor b\")\n",
    "print(b)"
   ]
  },
  {
   "cell_type": "code",
   "execution_count": 51,
   "metadata": {},
   "outputs": [],
   "source": [
    "c = tf.linalg.matmul(a,b)          # matmul stands for matrix multiplications"
   ]
  },
  {
   "cell_type": "code",
   "execution_count": 52,
   "metadata": {},
   "outputs": [
    {
     "name": "stdout",
     "output_type": "stream",
     "text": [
      "tf.Tensor(\n",
      "[[ 58  64]\n",
      " [139 154]], shape=(2, 2), dtype=int32)\n"
     ]
    }
   ],
   "source": [
    "print(c)"
   ]
  },
  {
   "cell_type": "code",
   "execution_count": 53,
   "metadata": {},
   "outputs": [
    {
     "name": "stdout",
     "output_type": "stream",
     "text": [
      "tf.Tensor(\n",
      "[[ 58  64]\n",
      " [139 154]], shape=(2, 2), dtype=int32)\n"
     ]
    }
   ],
   "source": [
    "c = a@b\n",
    "print(c)"
   ]
  },
  {
   "cell_type": "markdown",
   "metadata": {},
   "source": [
    "    -transpose of matrix"
   ]
  },
  {
   "cell_type": "code",
   "execution_count": 54,
   "metadata": {},
   "outputs": [
    {
     "name": "stdout",
     "output_type": "stream",
     "text": [
      "Original matrix\n",
      "tf.Tensor(\n",
      "[[1 2 3]\n",
      " [4 5 6]], shape=(2, 3), dtype=int32)\n",
      "tranpose matric is \n",
      "tf.Tensor(\n",
      "[[1 4]\n",
      " [2 5]\n",
      " [3 6]], shape=(3, 2), dtype=int32)\n"
     ]
    }
   ],
   "source": [
    "print(\"Original matrix\")\n",
    "print(a)\n",
    "\n",
    "print(\"tranpose matric is \")\n",
    "print(tf.transpose(a))"
   ]
  },
  {
   "cell_type": "code",
   "execution_count": 55,
   "metadata": {},
   "outputs": [
    {
     "name": "stdout",
     "output_type": "stream",
     "text": [
      "(2, 3)\n",
      "(3, 2)\n"
     ]
    }
   ],
   "source": [
    "print(a.shape)\n",
    "print(tf.transpose(a).shape)"
   ]
  },
  {
   "cell_type": "code",
   "execution_count": 56,
   "metadata": {},
   "outputs": [
    {
     "name": "stdout",
     "output_type": "stream",
     "text": [
      "orininal matrix is \n",
      "tf.Tensor([1 2 0], shape=(3,), dtype=int32)\n",
      "Transpoded matrix\n",
      "tf.Tensor([1 2 0], shape=(3,), dtype=int32)\n"
     ]
    }
   ],
   "source": [
    "x = tf.constant([1,2,0])\n",
    "print(\"orininal matrix is \")\n",
    "print(x)\n",
    "\n",
    "\n",
    "print(\"Transpoded matrix\")\n",
    "print(tf.transpose(x))"
   ]
  },
  {
   "cell_type": "code",
   "execution_count": 57,
   "metadata": {},
   "outputs": [
    {
     "data": {
      "text/plain": [
       "TensorShape([3])"
      ]
     },
     "execution_count": 57,
     "metadata": {},
     "output_type": "execute_result"
    }
   ],
   "source": [
    "x.shape"
   ]
  },
  {
   "cell_type": "code",
   "execution_count": 58,
   "metadata": {},
   "outputs": [
    {
     "name": "stdout",
     "output_type": "stream",
     "text": [
      "orininal matrix is \n",
      "tf.Tensor(\n",
      "[[1]\n",
      " [2]\n",
      " [0]], shape=(3, 1), dtype=int32)\n",
      "Transpoded matrix\n",
      "tf.Tensor(\n",
      "[[1]\n",
      " [2]\n",
      " [0]], shape=(3, 1), dtype=int32)\n"
     ]
    }
   ],
   "source": [
    "x = tf.constant([[1],[2],[0]])\n",
    "print(\"orininal matrix is \")\n",
    "print(x)\n",
    "tf.transpose(x)\n",
    "\n",
    "print(\"Transpoded matrix\")\n",
    "print(x)"
   ]
  },
  {
   "cell_type": "code",
   "execution_count": 59,
   "metadata": {},
   "outputs": [],
   "source": [
    "twoD = tf.constant(\n",
    "    [[1,5,7],\n",
    "    [7,8,5]]\n",
    ")"
   ]
  },
  {
   "cell_type": "code",
   "execution_count": 60,
   "metadata": {},
   "outputs": [
    {
     "name": "stdout",
     "output_type": "stream",
     "text": [
      "tf.Tensor(\n",
      "[[1 5 7]\n",
      " [7 8 5]], shape=(2, 3), dtype=int32)\n"
     ]
    }
   ],
   "source": [
    "print(twoD)"
   ]
  },
  {
   "cell_type": "code",
   "execution_count": 61,
   "metadata": {},
   "outputs": [
    {
     "data": {
      "text/plain": [
       "<tf.Tensor: shape=(3, 2), dtype=int32, numpy=\n",
       "array([[1, 7],\n",
       "       [5, 8],\n",
       "       [7, 5]])>"
      ]
     },
     "execution_count": 61,
     "metadata": {},
     "output_type": "execute_result"
    }
   ],
   "source": [
    "tf.transpose(twoD)"
   ]
  },
  {
   "cell_type": "code",
   "execution_count": 62,
   "metadata": {},
   "outputs": [
    {
     "name": "stdout",
     "output_type": "stream",
     "text": [
      "tf.Tensor(\n",
      "[[1 5 7]\n",
      " [7 8 5]], shape=(2, 3), dtype=int32)\n"
     ]
    }
   ],
   "source": [
    "print(twoD)"
   ]
  },
  {
   "cell_type": "code",
   "execution_count": 63,
   "metadata": {},
   "outputs": [],
   "source": [
    "mtx1 = tf.constant(\n",
    "    [[1,5,7],\n",
    "    [7,8,5]]\n",
    ")\n",
    "\n",
    "mtx2 = tf.constant(\n",
    "    [[1,5],\n",
    "    [7,8],\n",
    "    [6,8]]\n",
    ")"
   ]
  },
  {
   "cell_type": "code",
   "execution_count": 64,
   "metadata": {},
   "outputs": [
    {
     "data": {
      "text/plain": [
       "<tf.Tensor: shape=(2, 2), dtype=int32, numpy=\n",
       "array([[ 78, 101],\n",
       "       [ 93, 139]])>"
      ]
     },
     "execution_count": 64,
     "metadata": {},
     "output_type": "execute_result"
    }
   ],
   "source": [
    "tf.linalg.matmul(mtx1,mtx2)"
   ]
  },
  {
   "cell_type": "code",
   "execution_count": 65,
   "metadata": {},
   "outputs": [
    {
     "data": {
      "text/plain": [
       "<tf.Tensor: shape=(2, 2), dtype=int32, numpy=\n",
       "array([[ 78, 101],\n",
       "       [ 93, 139]])>"
      ]
     },
     "execution_count": 65,
     "metadata": {},
     "output_type": "execute_result"
    }
   ],
   "source": [
    "mtx1 @ mtx2"
   ]
  },
  {
   "cell_type": "code",
   "execution_count": 66,
   "metadata": {},
   "outputs": [
    {
     "data": {
      "text/plain": [
       "<tf.Tensor: shape=(3, 2), dtype=int32, numpy=\n",
       "array([[1, 7],\n",
       "       [5, 8],\n",
       "       [7, 5]])>"
      ]
     },
     "execution_count": 66,
     "metadata": {},
     "output_type": "execute_result"
    }
   ],
   "source": [
    "tf.transpose(mtx1)"
   ]
  },
  {
   "cell_type": "code",
   "execution_count": 67,
   "metadata": {},
   "outputs": [
    {
     "data": {
      "text/plain": [
       "<tf.Tensor: shape=(2, 3), dtype=int32, numpy=\n",
       "array([[1, 7, 6],\n",
       "       [5, 8, 8]])>"
      ]
     },
     "execution_count": 67,
     "metadata": {},
     "output_type": "execute_result"
    }
   ],
   "source": [
    "tf.transpose(mtx2)"
   ]
  },
  {
   "cell_type": "code",
   "execution_count": 68,
   "metadata": {},
   "outputs": [],
   "source": [
    "a = tf.constant([1, 2, 3, 4, 5, 6], shape=[2, 3])\n",
    "b = tf.constant([7, 8, 9, 10, 11, 12], shape=[3, 2])"
   ]
  },
  {
   "cell_type": "code",
   "execution_count": 69,
   "metadata": {},
   "outputs": [
    {
     "data": {
      "text/plain": [
       "<tf.Tensor: shape=(2, 2), dtype=int32, numpy=\n",
       "array([[ 58,  64],\n",
       "       [139, 154]])>"
      ]
     },
     "execution_count": 69,
     "metadata": {},
     "output_type": "execute_result"
    }
   ],
   "source": [
    "tf.linalg.matmul(\n",
    "    a,\n",
    "    b,\n",
    "    transpose_a=False,\n",
    "    transpose_b=False,\n",
    "    adjoint_a=False,\n",
    "    adjoint_b=False,\n",
    "    a_is_sparse=False,\n",
    "    b_is_sparse=False,\n",
    "    output_type=None,\n",
    "    name=None\n",
    ")"
   ]
  },
  {
   "cell_type": "code",
   "execution_count": 70,
   "metadata": {},
   "outputs": [
    {
     "data": {
      "text/plain": [
       "<tf.Tensor: shape=(2, 2), dtype=int32, numpy=\n",
       "array([[ 58,  64],\n",
       "       [139, 154]])>"
      ]
     },
     "execution_count": 70,
     "metadata": {},
     "output_type": "execute_result"
    }
   ],
   "source": [
    "tf.linalg.matmul(\n",
    "    a,\n",
    "    b,\n",
    "    transpose_a=False,\n",
    "    transpose_b=False,\n",
    "    adjoint_a=False,\n",
    "    adjoint_b=False,\n",
    "    a_is_sparse=True,\n",
    "    b_is_sparse=True,\n",
    "    output_type=None,\n",
    "    name=None\n",
    ")"
   ]
  },
  {
   "cell_type": "code",
   "execution_count": 71,
   "metadata": {},
   "outputs": [
    {
     "data": {
      "text/plain": [
       "<tf.Tensor: shape=(3, 3), dtype=int32, numpy=\n",
       "array([[1, 4, 7],\n",
       "       [2, 5, 8],\n",
       "       [3, 6, 9]])>"
      ]
     },
     "execution_count": 71,
     "metadata": {},
     "output_type": "execute_result"
    }
   ],
   "source": [
    "tf.linalg.adjoint(\n",
    "    matrix, name=None\n",
    ")"
   ]
  },
  {
   "cell_type": "code",
   "execution_count": 72,
   "metadata": {},
   "outputs": [],
   "source": [
    "x = tf.constant([[1 + 1j, 2 + 2j, 3 + 3j],\n",
    "                 [4 + 4j, 5 + 5j, 6 + 6j]])"
   ]
  },
  {
   "cell_type": "code",
   "execution_count": 73,
   "metadata": {},
   "outputs": [
    {
     "data": {
      "text/plain": [
       "<tf.Tensor: shape=(3, 2), dtype=complex128, numpy=\n",
       "array([[1.-1.j, 4.-4.j],\n",
       "       [2.-2.j, 5.-5.j],\n",
       "       [3.-3.j, 6.-6.j]])>"
      ]
     },
     "execution_count": 73,
     "metadata": {},
     "output_type": "execute_result"
    }
   ],
   "source": [
    "tf.linalg.adjoint(x)"
   ]
  },
  {
   "cell_type": "markdown",
   "metadata": {},
   "source": [
    "    - tf.linalg.band_part() function\n",
    "        - refere tf-bend_part.pff in drive"
   ]
  },
  {
   "cell_type": "code",
   "execution_count": 76,
   "metadata": {},
   "outputs": [],
   "source": [
    "input = tf.constant([\n",
    "    [1,-2,0],\n",
    "    [3,5,100],\n",
    "    [1,5,6],\n",
    "    [2,3,8]\n",
    "], dtype = tf.float16\n",
    ")"
   ]
  },
  {
   "cell_type": "code",
   "execution_count": 77,
   "metadata": {},
   "outputs": [
    {
     "data": {
      "text/plain": [
       "<tf.Tensor: shape=(4, 3), dtype=float16, numpy=\n",
       "array([[1., 0., 0.],\n",
       "       [0., 5., 0.],\n",
       "       [0., 0., 6.],\n",
       "       [0., 0., 0.]], dtype=float16)>"
      ]
     },
     "execution_count": 77,
     "metadata": {},
     "output_type": "execute_result"
    }
   ],
   "source": [
    "tf.linalg.band_part(input,0,0)     # keep the diagonal values only"
   ]
  },
  {
   "cell_type": "code",
   "execution_count": 79,
   "metadata": {},
   "outputs": [
    {
     "data": {
      "text/plain": [
       "<tf.Tensor: shape=(4, 3), dtype=float16, numpy=\n",
       "array([[1., 0., 0.],\n",
       "       [3., 5., 0.],\n",
       "       [1., 5., 6.],\n",
       "       [2., 3., 8.]], dtype=float16)>"
      ]
     },
     "execution_count": 79,
     "metadata": {},
     "output_type": "execute_result"
    }
   ],
   "source": [
    "tf.linalg.band_part(input,-1,0) # keep the lower triangular value "
   ]
  },
  {
   "cell_type": "code",
   "execution_count": 80,
   "metadata": {},
   "outputs": [
    {
     "data": {
      "text/plain": [
       "<tf.Tensor: shape=(4, 3), dtype=float16, numpy=\n",
       "array([[  1.,  -2.,   0.],\n",
       "       [  0.,   5., 100.],\n",
       "       [  0.,   0.,   6.],\n",
       "       [  0.,   0.,   0.]], dtype=float16)>"
      ]
     },
     "execution_count": 80,
     "metadata": {},
     "output_type": "execute_result"
    }
   ],
   "source": [
    "tf.linalg.band_part(input, 0, -1) # keep the upper triangular values"
   ]
  },
  {
   "cell_type": "code",
   "execution_count": null,
   "metadata": {},
   "outputs": [],
   "source": [
    "# be aware of the following functions \n",
    "# for matrix cross product => tf.linalg.cross(tensor1, tensor2)\n",
    "\n",
    "# for cholesky matrix  => tf.linalg.cholesky(tensor)\n",
    "\n",
    "# to find determinant value of any tensor => tf.linalg.det(tensor)\n",
    "\n",
    "# to find inverse of given matrix / tensor => tf.linalg.inv(input)\n",
    "\n",
    "# Note: to find inverse of matrix the matrix should be square matrix if the input matrix is not square matrix then we get run error \n",
    "\n",
    "# \n"
   ]
  },
  {
   "cell_type": "code",
   "execution_count": 83,
   "metadata": {},
   "outputs": [],
   "source": [
    "input = tf.constant([\n",
    "    [1,-2,0],\n",
    "    [3,5,100],\n",
    "    [1,5,6],\n",
    "    [2,3,8]\n",
    "]\n",
    ")"
   ]
  },
  {
   "cell_type": "code",
   "execution_count": 85,
   "metadata": {},
   "outputs": [],
   "source": [
    "# tf.linalg.inv(input)   # error saying tensor dtype must be in [DT_DOUBLE, DT_FLOAT, DT_HALF, DT_COMPLEX64, DT_COMPLEX128]"
   ]
  },
  {
   "cell_type": "code",
   "execution_count": 86,
   "metadata": {},
   "outputs": [],
   "source": [
    "# we can solve the error by using appropriate data type as shown \n",
    "input = tf.constant([\n",
    "    [1,-2,0],\n",
    "    [3,5,100],\n",
    "    [1,5,6],\n",
    "    [2,3,8]\n",
    "], dtype = tf.float32\n",
    ")"
   ]
  },
  {
   "cell_type": "code",
   "execution_count": 89,
   "metadata": {},
   "outputs": [],
   "source": [
    "# tf.linalg.inv(input)     # this time we get error saying Input matrix must be square"
   ]
  },
  {
   "cell_type": "code",
   "execution_count": 90,
   "metadata": {},
   "outputs": [],
   "source": [
    "# we can solve the error by using square matrix of appropriate data type\n",
    "input = tf.constant([\n",
    "    [1,-2,0],\n",
    "    [3,5,100],\n",
    "    [1,5,6],\n",
    "], dtype = tf.float32\n",
    ")"
   ]
  },
  {
   "cell_type": "code",
   "execution_count": 92,
   "metadata": {},
   "outputs": [
    {
     "name": "stdout",
     "output_type": "stream",
     "text": [
      "tf.Tensor(\n",
      "[[ 0.7413249  -0.01892742  0.3154574 ]\n",
      " [-0.12933755 -0.00946371  0.1577287 ]\n",
      " [-0.01577287  0.01104101 -0.01735016]], shape=(3, 3), dtype=float32)\n"
     ]
    }
   ],
   "source": [
    "inverse_of_input = tf.linalg.inv(input)      # error free\n",
    "print(inverse_of_input)"
   ]
  },
  {
   "cell_type": "code",
   "execution_count": 96,
   "metadata": {},
   "outputs": [
    {
     "data": {
      "text/plain": [
       "<tf.Tensor: shape=(3, 3), dtype=float32, numpy=\n",
       "array([[ 1.0000000e+00,  7.4505806e-09,  0.0000000e+00],\n",
       "       [ 1.6391277e-07,  1.0000000e+00,  1.6391277e-07],\n",
       "       [-5.2154064e-08,  7.4505806e-08,  1.0000000e+00]], dtype=float32)>"
      ]
     },
     "execution_count": 96,
     "metadata": {},
     "output_type": "execute_result"
    }
   ],
   "source": [
    "input @ inverse_of_input     # = identity matrix of shaoe 3 x 3"
   ]
  },
  {
   "cell_type": "code",
   "execution_count": null,
   "metadata": {},
   "outputs": [],
   "source": [
    "# for matrix transpose using tf.linalg => tf.linalg.matrix_transpose\n",
    "# for matrix trace value using tf.linalg => tf.linalg.trace"
   ]
  },
  {
   "cell_type": "code",
   "execution_count": 98,
   "metadata": {},
   "outputs": [
    {
     "data": {
      "text/plain": [
       "<tf.Tensor: shape=(3, 3), dtype=float32, numpy=\n",
       "array([[  1.,   3.,   1.],\n",
       "       [ -2.,   5.,   5.],\n",
       "       [  0., 100.,   6.]], dtype=float32)>"
      ]
     },
     "execution_count": 98,
     "metadata": {},
     "output_type": "execute_result"
    }
   ],
   "source": [
    "tf.linalg.matrix_transpose(input)"
   ]
  },
  {
   "cell_type": "code",
   "execution_count": 97,
   "metadata": {},
   "outputs": [
    {
     "data": {
      "text/plain": [
       "<tf.Tensor: shape=(), dtype=float32, numpy=12.0>"
      ]
     },
     "execution_count": 97,
     "metadata": {},
     "output_type": "execute_result"
    }
   ],
   "source": [
    "tf.linalg.trace(input)"
   ]
  },
  {
   "cell_type": "code",
   "execution_count": 99,
   "metadata": {},
   "outputs": [
    {
     "data": {
      "text/plain": [
       "(<tf.Tensor: shape=(3,), dtype=float32, numpy=array([100.3663   ,   5.1059036,   1.2371687], dtype=float32)>,\n",
       " <tf.Tensor: shape=(3, 3), dtype=float32, numpy=\n",
       " array([[-7.4980810e-04, -3.7569830e-01,  9.2674178e-01],\n",
       "        [ 9.9803799e-01, -5.8300879e-02, -2.2827482e-02],\n",
       "        [ 6.2606096e-02,  9.2490643e-01,  3.7500489e-01]], dtype=float32)>,\n",
       " <tf.Tensor: shape=(3, 3), dtype=float32, numpy=\n",
       " array([[ 0.03044816,  0.07330841,  0.99684453],\n",
       "        [ 0.0528536 ,  0.9957936 , -0.07484547],\n",
       "        [ 0.998138  , -0.05496572, -0.02644547]], dtype=float32)>)"
      ]
     },
     "execution_count": 99,
     "metadata": {},
     "output_type": "execute_result"
    }
   ],
   "source": [
    "# singular value decompositions\n",
    "tf.linalg.svd(input)\n",
    "\n",
    "# returns three matrix s , u , and v \n",
    "\n",
    "# s => \n",
    "# u => left singular matrix\n",
    "# v =>right singular matrix"
   ]
  },
  {
   "cell_type": "code",
   "execution_count": 100,
   "metadata": {},
   "outputs": [],
   "source": [
    "s,u,v = tf.linalg.svd(input)"
   ]
  },
  {
   "cell_type": "code",
   "execution_count": 101,
   "metadata": {},
   "outputs": [
    {
     "name": "stdout",
     "output_type": "stream",
     "text": [
      "tf.Tensor([100.3663      5.1059036   1.2371687], shape=(3,), dtype=float32)\n",
      "tf.Tensor(\n",
      "[[-7.4980810e-04 -3.7569830e-01  9.2674178e-01]\n",
      " [ 9.9803799e-01 -5.8300879e-02 -2.2827482e-02]\n",
      " [ 6.2606096e-02  9.2490643e-01  3.7500489e-01]], shape=(3, 3), dtype=float32)\n",
      "tf.Tensor(\n",
      "[[ 0.03044816  0.07330841  0.99684453]\n",
      " [ 0.0528536   0.9957936  -0.07484547]\n",
      " [ 0.998138   -0.05496572 -0.02644547]], shape=(3, 3), dtype=float32)\n"
     ]
    }
   ],
   "source": [
    "print(s)\n",
    "print(u)\n",
    "print(v)"
   ]
  },
  {
   "cell_type": "code",
   "execution_count": 102,
   "metadata": {},
   "outputs": [],
   "source": [
    "# numpy array matrix multiplications\n",
    "import numpy as np \n",
    "\n",
    "a = np.array([[1, 0],\n",
    "              [0, 1]])\n",
    "\n",
    "b = np.array([1, 2])"
   ]
  },
  {
   "cell_type": "code",
   "execution_count": 103,
   "metadata": {},
   "outputs": [
    {
     "data": {
      "text/plain": [
       "array([1, 2])"
      ]
     },
     "execution_count": 103,
     "metadata": {},
     "output_type": "execute_result"
    }
   ],
   "source": [
    "np.matmul(a,b)"
   ]
  },
  {
   "cell_type": "code",
   "execution_count": 104,
   "metadata": {},
   "outputs": [
    {
     "data": {
      "text/plain": [
       "array([[1, 0],\n",
       "       [0, 1]])"
      ]
     },
     "execution_count": 104,
     "metadata": {},
     "output_type": "execute_result"
    }
   ],
   "source": [
    "np.einsum(a,b)"
   ]
  },
  {
   "cell_type": "code",
   "execution_count": 105,
   "metadata": {},
   "outputs": [
    {
     "data": {
      "text/plain": [
       "array([1, 2])"
      ]
     },
     "execution_count": 105,
     "metadata": {},
     "output_type": "execute_result"
    }
   ],
   "source": [
    "a@b"
   ]
  },
  {
   "cell_type": "code",
   "execution_count": null,
   "metadata": {},
   "outputs": [],
   "source": []
  }
 ],
 "metadata": {
  "kernelspec": {
   "display_name": "AIML",
   "language": "python",
   "name": "python3"
  },
  "language_info": {
   "codemirror_mode": {
    "name": "ipython",
    "version": 3
   },
   "file_extension": ".py",
   "mimetype": "text/x-python",
   "name": "python",
   "nbconvert_exporter": "python",
   "pygments_lexer": "ipython3",
   "version": "3.11.5"
  },
  "orig_nbformat": 4
 },
 "nbformat": 4,
 "nbformat_minor": 2
}
