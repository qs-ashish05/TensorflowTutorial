{
 "cells": [
  {
   "cell_type": "markdown",
   "metadata": {},
   "source": [
    "## Notes \n",
    "1. Tensors are multi dimensional arrays \n",
    "2. an array is an ordered arrangement of numbers\n"
   ]
  },
  {
   "cell_type": "code",
   "execution_count": 2,
   "metadata": {},
   "outputs": [],
   "source": [
    "import tensorflow as tf"
   ]
  },
  {
   "cell_type": "markdown",
   "metadata": {},
   "source": [
    "## tf.constant( list )\n",
    "- Used to create tensors, the argument is list "
   ]
  },
  {
   "cell_type": "code",
   "execution_count": 3,
   "metadata": {},
   "outputs": [
    {
     "name": "stdout",
     "output_type": "stream",
     "text": [
      "tf.Tensor([6], shape=(1,), dtype=int32)\n",
      "(1,)\n",
      "<dtype: 'int32'>\n"
     ]
    }
   ],
   "source": [
    "# one_dim_tesnor  = tf.constant([])    # this is also valid \n",
    "# \n",
    "one_dim_tesnor  = tf.constant([6])    # \n",
    "print(one_dim_tesnor)\n",
    "print(one_dim_tesnor.shape)\n",
    "print(one_dim_tesnor.dtype)"
   ]
  },
  {
   "cell_type": "code",
   "execution_count": 4,
   "metadata": {},
   "outputs": [
    {
     "name": "stdout",
     "output_type": "stream",
     "text": [
      "tf.Tensor([3.14], shape=(1,), dtype=float32)\n",
      "(1,)\n",
      "<dtype: 'float32'>\n"
     ]
    }
   ],
   "source": [
    "one_dim_tesnor  = tf.constant([3.14])    # \n",
    "print(one_dim_tesnor)\n",
    "print(one_dim_tesnor.shape)\n",
    "print(one_dim_tesnor.dtype)"
   ]
  },
  {
   "cell_type": "markdown",
   "metadata": {},
   "source": [
    "    - Tensor.shape tells you the size of the tesor along each axes \n",
    "    - Tesnor.dtype tells you the type of all the elements in the tensor"
   ]
  },
  {
   "cell_type": "code",
   "execution_count": 5,
   "metadata": {},
   "outputs": [
    {
     "name": "stdout",
     "output_type": "stream",
     "text": [
      "tf.Tensor([6 7 1], shape=(3,), dtype=int32)\n",
      "(3,)\n",
      "<dtype: 'int32'>\n"
     ]
    }
   ],
   "source": [
    "one_dim_tesnor  = tf.constant([6,7,1])    # \n",
    "print(one_dim_tesnor)\n",
    "print(one_dim_tesnor.shape)\n",
    "print(one_dim_tesnor.dtype)"
   ]
  },
  {
   "cell_type": "code",
   "execution_count": 6,
   "metadata": {},
   "outputs": [
    {
     "name": "stdout",
     "output_type": "stream",
     "text": [
      "tf.Tensor([6.   3.17 1.  ], shape=(3,), dtype=float32)\n",
      "(3,)\n",
      "<dtype: 'float32'>\n"
     ]
    }
   ],
   "source": [
    "one_dim_tesnor  = tf.constant([6,3.17,1])    # \n",
    "print(one_dim_tesnor)\n",
    "print(one_dim_tesnor.shape)\n",
    "print(one_dim_tesnor.dtype)"
   ]
  },
  {
   "cell_type": "markdown",
   "metadata": {},
   "source": [
    "## Error:\n",
    "    - The below code will  give an error \n",
    "    - Can't convert Python sequence with mixed types to Tensor."
   ]
  },
  {
   "cell_type": "code",
   "execution_count": 7,
   "metadata": {},
   "outputs": [],
   "source": [
    "# one_dim_tesnor  = tf.constant([6,\"hello\",1])    # Insode a tensor string are not allowd \n",
    "# print(one_dim_tesnor)\n",
    "# print(one_dim_tesnor.shape)\n",
    "# print(one_dim_tesnor.dtype)"
   ]
  },
  {
   "cell_type": "code",
   "execution_count": 8,
   "metadata": {},
   "outputs": [
    {
     "name": "stdout",
     "output_type": "stream",
     "text": [
      "tf.Tensor([6 1 1], shape=(3,), dtype=int32)\n",
      "(3,)\n",
      "<dtype: 'int32'>\n"
     ]
    }
   ],
   "source": [
    "one_dim_tesnor  = tf.constant([6,True,1])    # \n",
    "print(one_dim_tesnor)\n",
    "print(one_dim_tesnor.shape)\n",
    "print(one_dim_tesnor.dtype)"
   ]
  },
  {
   "cell_type": "code",
   "execution_count": 9,
   "metadata": {},
   "outputs": [
    {
     "name": "stdout",
     "output_type": "stream",
     "text": [
      "tf.Tensor([6 0 1], shape=(3,), dtype=int32)\n",
      "(3,)\n",
      "<dtype: 'int32'>\n"
     ]
    }
   ],
   "source": [
    "one_dim_tesnor  = tf.constant([6,False,1])    # \n",
    "print(one_dim_tesnor)\n",
    "print(one_dim_tesnor.shape)\n",
    "print(one_dim_tesnor.dtype)"
   ]
  },
  {
   "cell_type": "code",
   "execution_count": 10,
   "metadata": {},
   "outputs": [
    {
     "name": "stdout",
     "output_type": "stream",
     "text": [
      "tf.Tensor(\n",
      "[[1 5 7]\n",
      " [7 8 5]], shape=(2, 3), dtype=int32)\n",
      "The tensor shape is  (2, 3)\n",
      "The tenor data type is  <dtype: 'int32'>\n",
      "The tensor dimension is:  2\n"
     ]
    }
   ],
   "source": [
    "two_dim_tensor = tf.constant([\n",
    "    [1,5,7],\n",
    "    [7,8,5]\n",
    "])\n",
    "\n",
    "print(two_dim_tensor)\n",
    "print(\"The tensor shape is \",two_dim_tensor.shape)\n",
    "print(\"The tenor data type is \",two_dim_tensor.dtype)\n",
    "print(\"The tensor dimension is: \",two_dim_tensor.ndim)"
   ]
  },
  {
   "cell_type": "code",
   "execution_count": 11,
   "metadata": {},
   "outputs": [
    {
     "name": "stdout",
     "output_type": "stream",
     "text": [
      "tf.Tensor(\n",
      "[[[1 5 7]\n",
      "  [7 8 5]]\n",
      "\n",
      " [[1 5 8]\n",
      "  [9 8 6]]\n",
      "\n",
      " [[1 3 7]\n",
      "  [7 4 5]]], shape=(3, 2, 3), dtype=int32)\n",
      "The tensor shape is :  (3, 2, 3)\n",
      "The tensor data type is:  <dtype: 'int32'>\n",
      "The tensor dimensio is:  3\n"
     ]
    }
   ],
   "source": [
    "three_dim_tensor = tf.constant([\n",
    "    [\n",
    "       [1,5,7],\n",
    "       [7,8,5] \n",
    "    ],\n",
    "    [\n",
    "       [1,5,8],\n",
    "       [9,8,6] \n",
    "    ],\n",
    "    [\n",
    "       [1,3,7],\n",
    "       [7,4,5] \n",
    "    ]   \n",
    "])\n",
    "\n",
    "print(three_dim_tensor)\n",
    "print(\"The tensor shape is : \",three_dim_tensor.shape)\n",
    "print(\"The tensor data type is: \",three_dim_tensor.dtype)\n",
    "print(\"The tensor dimensio is: \",three_dim_tensor.ndim)"
   ]
  },
  {
   "cell_type": "code",
   "execution_count": 12,
   "metadata": {},
   "outputs": [
    {
     "name": "stdout",
     "output_type": "stream",
     "text": [
      "tf.Tensor(\n",
      "[[[[ 1  5  7]\n",
      "   [ 7  8  5]]\n",
      "\n",
      "  [[ 1  5  8]\n",
      "   [ 9  8  6]]\n",
      "\n",
      "  [[ 1  3  7]\n",
      "   [ 7  4  5]]]\n",
      "\n",
      "\n",
      " [[[10  5  7]\n",
      "   [ 7 80  5]]\n",
      "\n",
      "  [[ 1  5  8]\n",
      "   [ 9 80 60]]\n",
      "\n",
      "  [[ 1 30  7]\n",
      "   [70  4  5]]]], shape=(2, 3, 2, 3), dtype=int32)\n",
      "The tensor shape is :  (2, 3, 2, 3)\n",
      "The tensor data type is:  <dtype: 'int32'>\n",
      "The tensor dimension is:  4\n"
     ]
    }
   ],
   "source": [
    "three_dim_tensor = tf.constant([\n",
    "   [ [\n",
    "       [1,5,7],\n",
    "       [7,8,5] \n",
    "    ],\n",
    "    [\n",
    "       [1,5,8],\n",
    "       [9,8,6] \n",
    "    ],\n",
    "    [\n",
    "       [1,3,7],\n",
    "       [7,4,5] \n",
    "    ]   ],\n",
    "\n",
    "   [ [\n",
    "       [10,5,7],\n",
    "       [7,80,5] \n",
    "    ],\n",
    "    [\n",
    "       [1,5,8],\n",
    "       [9,80,60] \n",
    "    ],\n",
    "    [\n",
    "       [1,30,7],\n",
    "       [70,4,5] \n",
    "    ]   ]\n",
    "])\n",
    "\n",
    "print(three_dim_tensor)\n",
    "print(\"The tensor shape is : \",three_dim_tensor.shape)\n",
    "print(\"The tensor data type is: \",three_dim_tensor.dtype)\n",
    "print(\"The tensor dimension is: \",three_dim_tensor.ndim)"
   ]
  },
  {
   "cell_type": "markdown",
   "metadata": {},
   "source": [
    "## NOTE : keep eyes on comma otherwise will get an error "
   ]
  },
  {
   "cell_type": "code",
   "execution_count": 13,
   "metadata": {},
   "outputs": [
    {
     "name": "stdout",
     "output_type": "stream",
     "text": [
      "tf.Tensor(\n",
      "[[1. 5. 7.]\n",
      " [7. 8. 5.]], shape=(2, 3), dtype=float32)\n",
      "The tensor shape is  (2, 3)\n",
      "The tenor data type is  <dtype: 'float32'>\n",
      "The tensor dimension is:  2\n"
     ]
    }
   ],
   "source": [
    "# We can give our own datatypes to a tensor variables\n",
    "two_dim_tensor = tf.constant([\n",
    "    [1,5,7],\n",
    "    [7,8,5]\n",
    "],dtype = tf.float32)\n",
    "\n",
    "print(two_dim_tensor)\n",
    "print(\"The tensor shape is \",two_dim_tensor.shape)\n",
    "print(\"The tenor data type is \",two_dim_tensor.dtype)\n",
    "print(\"The tensor dimension is: \",two_dim_tensor.ndim)\n",
    "\n",
    "\n",
    "# Although the data types of vaues are integer but the tensor variable is of float type \n",
    "# at the end of every value will get an decimal '.' as we can see in below example"
   ]
  },
  {
   "cell_type": "code",
   "execution_count": 14,
   "metadata": {},
   "outputs": [
    {
     "name": "stdout",
     "output_type": "stream",
     "text": [
      "tf.Tensor(\n",
      "[[1. 5. 7.]\n",
      " [7. 8. 5.]], shape=(2, 3), dtype=float16)\n",
      "The tensor shape is  (2, 3)\n",
      "The tenor data type is  <dtype: 'float16'>\n",
      "The tensor dimension is:  2\n"
     ]
    }
   ],
   "source": [
    "two_dim_tensor = tf.constant([\n",
    "    [1,5,7],\n",
    "    [7,8,5]\n",
    "],dtype = tf.float16)                # it will take less memory because float32 is of more byte than float6 \n",
    " \n",
    "print(two_dim_tensor)\n",
    "print(\"The tensor shape is \",two_dim_tensor.shape)\n",
    "print(\"The tenor data type is \",two_dim_tensor.dtype)\n",
    "print(\"The tensor dimension is: \",two_dim_tensor.ndim)"
   ]
  },
  {
   "cell_type": "markdown",
   "metadata": {},
   "source": [
    "#### tenordata types:\n",
    "- A Tensor or SparseTensor or IndexedSlices of numeric type. It could be uint8 , uint16 , uint32 , uint64 , int8 , int16 , int32 , int64 , float16 , float32 , float64 , complex64 , complex128 , bfloat16 . The destination type. The list of supported dtypes is the same as x"
   ]
  },
  {
   "cell_type": "code",
   "execution_count": 15,
   "metadata": {},
   "outputs": [
    {
     "name": "stdout",
     "output_type": "stream",
     "text": [
      "tf.Tensor([6. 7. 1.], shape=(3,), dtype=float32)\n",
      "(3,)\n",
      "<dtype: 'float32'>\n"
     ]
    }
   ],
   "source": [
    "one_dim_tesnor  = tf.constant([6,7,1], dtype=tf.float32)    # we are allow to convert int values to float \n",
    "print(one_dim_tesnor)\n",
    "print(one_dim_tesnor.shape)\n",
    "print(one_dim_tesnor.dtype)"
   ]
  },
  {
   "cell_type": "code",
   "execution_count": 16,
   "metadata": {},
   "outputs": [],
   "source": [
    "# one_dim_tesnor  = tf.constant([6,3.14,1], dtype=tf.int32)    # we are nit allow to convert float values to interger \n",
    "# print(one_dim_tesnor)\n",
    "# print(one_dim_tesnor.shape)\n",
    "# print(one_dim_tesnor.dtype)\n",
    "\n",
    "# Error : Cannot convert [6, 3.14, 1] to EagerTensor of dtype int32"
   ]
  },
  {
   "cell_type": "code",
   "execution_count": 17,
   "metadata": {},
   "outputs": [
    {
     "name": "stdout",
     "output_type": "stream",
     "text": [
      "tf.Tensor([6 3 1], shape=(3,), dtype=int16)\n",
      "(3,)\n",
      "<dtype: 'int16'>\n"
     ]
    }
   ],
   "source": [
    "# type casting in tensor flow\n",
    "tesnor  = tf.constant([6,3.14,1], dtype=tf.float32)    # we are nit allow to convert float values to interger \n",
    "\n",
    "one_dim_tesnor = tf.cast(tesnor, dtype=tf.int16)   # this is how we perform type casting of tensors in tensorflow \n",
    "\n",
    "print(one_dim_tesnor)\n",
    "print(one_dim_tesnor.shape)\n",
    "print(one_dim_tesnor.dtype)"
   ]
  },
  {
   "cell_type": "code",
   "execution_count": 18,
   "metadata": {},
   "outputs": [
    {
     "name": "stdout",
     "output_type": "stream",
     "text": [
      "tf.Tensor([ True  True  True], shape=(3,), dtype=bool)\n",
      "(3,)\n",
      "<dtype: 'bool'>\n"
     ]
    }
   ],
   "source": [
    "tesnor  = tf.constant([6,3.14,1], dtype=tf.float32)    # we are nit allow to convert float values to interger \n",
    "\n",
    "one_dim_tesnor = tf.cast(tesnor, dtype=tf.bool)   # this is how we perform type casting of tensors in tensorflow \n",
    "\n",
    "print(one_dim_tesnor)\n",
    "print(one_dim_tesnor.shape)\n",
    "print(one_dim_tesnor.dtype)"
   ]
  },
  {
   "cell_type": "code",
   "execution_count": 19,
   "metadata": {},
   "outputs": [
    {
     "name": "stdout",
     "output_type": "stream",
     "text": [
      "tf.Tensor([ True  True False], shape=(3,), dtype=bool)\n",
      "(3,)\n",
      "<dtype: 'bool'>\n"
     ]
    }
   ],
   "source": [
    "tesnor  = tf.constant([-6,3.14,0], dtype=tf.float32)    # we are nit allow to convert float values to interger \n",
    "\n",
    "one_dim_tesnor = tf.cast(tesnor, dtype=tf.bool)   # this is how we perform type casting of tensors in tensorflow \n",
    "\n",
    "print(one_dim_tesnor)\n",
    "print(one_dim_tesnor.shape)\n",
    "print(one_dim_tesnor.dtype)\n",
    "\n",
    "\n",
    "# bool data type \n",
    "# 0 - false\n",
    "# other than 0 - True "
   ]
  },
  {
   "cell_type": "code",
   "execution_count": 20,
   "metadata": {},
   "outputs": [
    {
     "name": "stdout",
     "output_type": "stream",
     "text": [
      "tf.Tensor([ True False  True], shape=(3,), dtype=bool)\n"
     ]
    }
   ],
   "source": [
    "bool_tensor = tf.constant([True, False, True])\n",
    "print(bool_tensor)"
   ]
  },
  {
   "cell_type": "code",
   "execution_count": 21,
   "metadata": {},
   "outputs": [
    {
     "name": "stdout",
     "output_type": "stream",
     "text": [
      "tf.Tensor([5 0 7], shape=(3,), dtype=int32)\n"
     ]
    }
   ],
   "source": [
    "bool_tensor = tf.constant([5, False, 7])\n",
    "print(bool_tensor)"
   ]
  },
  {
   "cell_type": "code",
   "execution_count": 22,
   "metadata": {},
   "outputs": [
    {
     "name": "stdout",
     "output_type": "stream",
     "text": [
      "tf.Tensor([b'lets learn TensorFlow'], shape=(1,), dtype=string)\n"
     ]
    }
   ],
   "source": [
    "string_tensor = tf.constant([\"lets learn TensorFlow\"])\n",
    "print(string_tensor)\n",
    "\n",
    "# This will not give an error"
   ]
  },
  {
   "cell_type": "code",
   "execution_count": 23,
   "metadata": {},
   "outputs": [],
   "source": [
    "# string_tensor = tf.constant([8, \"lets learn TensorFlow\", 5])\n",
    "# print(string_tensor)\n",
    "\n",
    "# This will produce an error "
   ]
  },
  {
   "cell_type": "code",
   "execution_count": 24,
   "metadata": {},
   "outputs": [
    {
     "name": "stdout",
     "output_type": "stream",
     "text": [
      "tf.Tensor([b'Hello' b'hii' b'bye'], shape=(3,), dtype=string)\n"
     ]
    }
   ],
   "source": [
    "string_tensor = tf.constant([\"Hello\",\"hii\",\"bye\"])\n",
    "print(string_tensor)"
   ]
  },
  {
   "cell_type": "markdown",
   "metadata": {},
   "source": [
    "## Converting Numpy array into tensors "
   ]
  },
  {
   "cell_type": "markdown",
   "metadata": {},
   "source": [
    "### tf.convert_to_tensor( numpy array ) "
   ]
  },
  {
   "cell_type": "code",
   "execution_count": 25,
   "metadata": {},
   "outputs": [],
   "source": [
    "import numpy as np"
   ]
  },
  {
   "cell_type": "code",
   "execution_count": 26,
   "metadata": {},
   "outputs": [
    {
     "name": "stdout",
     "output_type": "stream",
     "text": [
      "[1 5 9 3 7]\n",
      "(5,)\n",
      "int32\n"
     ]
    }
   ],
   "source": [
    "np_array = np.array([1,5,9,3,7])\n",
    "np_tensor = tf.convert_to_tensor(np_array)\n",
    "print(np_array)\n",
    "print(np_array.shape)\n",
    "print(np_array.dtype)"
   ]
  },
  {
   "cell_type": "code",
   "execution_count": 27,
   "metadata": {},
   "outputs": [
    {
     "name": "stdout",
     "output_type": "stream",
     "text": [
      "[15.    5.5   9.7   3.14  7.  ]\n",
      "(5,)\n",
      "float64\n"
     ]
    }
   ],
   "source": [
    "np_array = np.array([15, 5.5, 9.7, 3.14, 7])\n",
    "np_tensor = tf.convert_to_tensor(np_array)\n",
    "print(np_array)\n",
    "print(np_array.shape)\n",
    "print(np_array.dtype)"
   ]
  },
  {
   "cell_type": "markdown",
   "metadata": {},
   "source": [
    "### tf.eye () method:\n",
    "- method is used to create indentity matrix tensor of given dimension"
   ]
  },
  {
   "cell_type": "code",
   "execution_count": 28,
   "metadata": {},
   "outputs": [],
   "source": [
    "# # complete signature of method is as follows \n",
    "# tf.eye(\n",
    "#     num_rows,\n",
    "#     num_columns=None,\n",
    "#     batch_shape=None,\n",
    "#     dtype=tf.dtypes.float32,\n",
    "#     name=None\n",
    "# )\n",
    "\n",
    "# Note the default values aslo "
   ]
  },
  {
   "cell_type": "code",
   "execution_count": 29,
   "metadata": {},
   "outputs": [],
   "source": [
    "eye_tensor = tf.eye(2)"
   ]
  },
  {
   "cell_type": "code",
   "execution_count": 30,
   "metadata": {},
   "outputs": [
    {
     "data": {
      "text/plain": [
       "<tf.Tensor: shape=(2, 2), dtype=float32, numpy=\n",
       "array([[1., 0.],\n",
       "       [0., 1.]], dtype=float32)>"
      ]
     },
     "execution_count": 30,
     "metadata": {},
     "output_type": "execute_result"
    }
   ],
   "source": [
    "eye_tensor"
   ]
  },
  {
   "cell_type": "code",
   "execution_count": 31,
   "metadata": {},
   "outputs": [
    {
     "name": "stdout",
     "output_type": "stream",
     "text": [
      "tf.Tensor(\n",
      "[[1. 0.]\n",
      " [0. 1.]], shape=(2, 2), dtype=float32)\n"
     ]
    }
   ],
   "source": [
    "print(eye_tensor)"
   ]
  },
  {
   "cell_type": "code",
   "execution_count": 32,
   "metadata": {},
   "outputs": [],
   "source": [
    "## We can overide the tf.eye method aslo if we are not happy with the degault implementation of the method \n",
    "overriden_eye_tensor = tf.eye(\n",
    "    num_rows = 4,\n",
    "    num_columns=None,\n",
    "    batch_shape=None,\n",
    "    dtype=tf.dtypes.int32,        # note this change\n",
    "    name=None\n",
    ")"
   ]
  },
  {
   "cell_type": "code",
   "execution_count": 33,
   "metadata": {},
   "outputs": [
    {
     "name": "stdout",
     "output_type": "stream",
     "text": [
      "tf.Tensor(\n",
      "[[1 0 0 0]\n",
      " [0 1 0 0]\n",
      " [0 0 1 0]\n",
      " [0 0 0 1]], shape=(4, 4), dtype=int32)\n"
     ]
    }
   ],
   "source": [
    "print(overriden_eye_tensor)"
   ]
  },
  {
   "cell_type": "code",
   "execution_count": 34,
   "metadata": {},
   "outputs": [
    {
     "name": "stdout",
     "output_type": "stream",
     "text": [
      "tf.Tensor(\n",
      "[[3 0 0 0]\n",
      " [0 3 0 0]\n",
      " [0 0 3 0]\n",
      " [0 0 0 3]], shape=(4, 4), dtype=int32)\n"
     ]
    }
   ],
   "source": [
    "print(3 * overriden_eye_tensor)    # multiply 3"
   ]
  },
  {
   "cell_type": "code",
   "execution_count": 35,
   "metadata": {},
   "outputs": [
    {
     "name": "stdout",
     "output_type": "stream",
     "text": [
      "tf.Tensor(\n",
      "[[1. 0. 0. 0.]\n",
      " [0. 1. 0. 0.]], shape=(2, 4), dtype=float32)\n"
     ]
    }
   ],
   "source": [
    "# if we dont define the number of columns then it is by default going to be square matrix \n",
    "# if we want our own number of clumns then we can do like\n",
    "\n",
    "eye_tensor  = tf.eye(2, 4)       # 2-rowa and 4-columns\n",
    "print(eye_tensor)"
   ]
  },
  {
   "cell_type": "code",
   "execution_count": 36,
   "metadata": {},
   "outputs": [
    {
     "name": "stdout",
     "output_type": "stream",
     "text": [
      "tf.Tensor(\n",
      "[[ True False False False]\n",
      " [False  True False False]], shape=(2, 4), dtype=bool)\n"
     ]
    }
   ],
   "source": [
    "eye_tensor  = tf.eye(2, 4 ,  dtype = tf.bool)       # 2-rowa and 4-columns\n",
    "print(eye_tensor)"
   ]
  },
  {
   "cell_type": "code",
   "execution_count": 37,
   "metadata": {},
   "outputs": [
    {
     "name": "stdout",
     "output_type": "stream",
     "text": [
      "tf.Tensor(\n",
      "[[ True False False False False]\n",
      " [False  True False False False]\n",
      " [False False  True False False]], shape=(3, 5), dtype=bool)\n"
     ]
    }
   ],
   "source": [
    "eye_tensor = tf.eye(\n",
    "    num_rows = 3,\n",
    "    num_columns=5,\n",
    "    batch_shape=None,\n",
    "    dtype=tf.dtypes.bool,        # note this change\n",
    "    name=None\n",
    ")\n",
    "\n",
    "print(eye_tensor)"
   ]
  },
  {
   "cell_type": "code",
   "execution_count": 38,
   "metadata": {},
   "outputs": [
    {
     "name": "stdout",
     "output_type": "stream",
     "text": [
      "The complete tensor is:  tf.Tensor(\n",
      "[[[1. 0. 0. 0. 0.]\n",
      "  [0. 1. 0. 0. 0.]\n",
      "  [0. 0. 1. 0. 0.]]\n",
      "\n",
      " [[1. 0. 0. 0. 0.]\n",
      "  [0. 1. 0. 0. 0.]\n",
      "  [0. 0. 1. 0. 0.]]\n",
      "\n",
      " [[1. 0. 0. 0. 0.]\n",
      "  [0. 1. 0. 0. 0.]\n",
      "  [0. 0. 1. 0. 0.]]], shape=(3, 3, 5), dtype=float32)\n",
      "\n",
      "The first tensor is:  tf.Tensor(\n",
      "[[1. 0. 0. 0. 0.]\n",
      " [0. 1. 0. 0. 0.]\n",
      " [0. 0. 1. 0. 0.]], shape=(3, 5), dtype=float32)\n",
      "\n",
      "The second tensor is:  tf.Tensor(\n",
      "[[1. 0. 0. 0. 0.]\n",
      " [0. 1. 0. 0. 0.]\n",
      " [0. 0. 1. 0. 0.]], shape=(3, 5), dtype=float32)\n",
      "\n",
      "The third tensor is:  tf.Tensor(\n",
      "[[1. 0. 0. 0. 0.]\n",
      " [0. 1. 0. 0. 0.]\n",
      " [0. 0. 1. 0. 0.]], shape=(3, 5), dtype=float32)\n"
     ]
    }
   ],
   "source": [
    "eye_tensor = tf.eye(\n",
    "    num_rows = 3,\n",
    "    num_columns=5,\n",
    "    batch_shape=[3],\n",
    "    dtype=tf.dtypes.float32,        # note this change\n",
    "    name=None\n",
    ")\n",
    "\n",
    "print(\"The complete tensor is: \",eye_tensor)\n",
    "print(\"\\nThe first tensor is: \",eye_tensor[0])\n",
    "print(\"\\nThe second tensor is: \",eye_tensor[1])\n",
    "print(\"\\nThe third tensor is: \",eye_tensor[2])"
   ]
  },
  {
   "cell_type": "markdown",
   "metadata": {},
   "source": [
    "### tf.fill () method \n",
    "- Creates a tensor filled with a scalar value."
   ]
  },
  {
   "cell_type": "code",
   "execution_count": 39,
   "metadata": {},
   "outputs": [],
   "source": [
    "# complete signature of methos is as follows \n",
    "\n",
    "# tf.fill(\n",
    "#     dims, value, name=None\n",
    "# )"
   ]
  },
  {
   "cell_type": "code",
   "execution_count": 40,
   "metadata": {},
   "outputs": [
    {
     "data": {
      "text/plain": [
       "<tf.Tensor: shape=(2, 3), dtype=int32, numpy=\n",
       "array([[9, 9, 9],\n",
       "       [9, 9, 9]])>"
      ]
     },
     "execution_count": 40,
     "metadata": {},
     "output_type": "execute_result"
    }
   ],
   "source": [
    "tf.fill([2, 3], 9)"
   ]
  },
  {
   "cell_type": "code",
   "execution_count": 41,
   "metadata": {},
   "outputs": [
    {
     "name": "stdout",
     "output_type": "stream",
     "text": [
      "tf.Tensor(\n",
      "[[9 9 9 9 9]\n",
      " [9 9 9 9 9]\n",
      " [9 9 9 9 9]], shape=(3, 5), dtype=int32)\n"
     ]
    }
   ],
   "source": [
    "fill_tensor = tf.fill(\n",
    "    dims = [3,5],\n",
    "    value = 9,\n",
    "    name = None\n",
    ")\n",
    "\n",
    "print(fill_tensor)"
   ]
  },
  {
   "cell_type": "code",
   "execution_count": 42,
   "metadata": {},
   "outputs": [
    {
     "name": "stdout",
     "output_type": "stream",
     "text": [
      "tf.Tensor(\n",
      "[[[9 9]\n",
      "  [9 9]\n",
      "  [9 9]]\n",
      "\n",
      " [[9 9]\n",
      "  [9 9]\n",
      "  [9 9]]\n",
      "\n",
      " [[9 9]\n",
      "  [9 9]\n",
      "  [9 9]]\n",
      "\n",
      " [[9 9]\n",
      "  [9 9]\n",
      "  [9 9]]\n",
      "\n",
      " [[9 9]\n",
      "  [9 9]\n",
      "  [9 9]]], shape=(5, 3, 2), dtype=int32)\n"
     ]
    }
   ],
   "source": [
    "fill_tensor = tf.fill(\n",
    "    dims = [5,3,2],\n",
    "    value = 9,\n",
    "    name = None\n",
    ")\n",
    "\n",
    "print(fill_tensor)"
   ]
  },
  {
   "cell_type": "markdown",
   "metadata": {},
   "source": [
    "### tf.ones () method\n",
    "- Creates a tensor with all elements set to one (1)."
   ]
  },
  {
   "cell_type": "code",
   "execution_count": 43,
   "metadata": {},
   "outputs": [
    {
     "data": {
      "text/plain": [
       "<tf.Tensor: shape=(3, 4), dtype=int32, numpy=\n",
       "array([[1, 1, 1, 1],\n",
       "       [1, 1, 1, 1],\n",
       "       [1, 1, 1, 1]])>"
      ]
     },
     "execution_count": 43,
     "metadata": {},
     "output_type": "execute_result"
    }
   ],
   "source": [
    "tf.ones([3, 4], tf.int32)"
   ]
  },
  {
   "cell_type": "code",
   "execution_count": 44,
   "metadata": {},
   "outputs": [
    {
     "name": "stdout",
     "output_type": "stream",
     "text": [
      "tf.Tensor(\n",
      "[[[1. 1.]\n",
      "  [1. 1.]\n",
      "  [1. 1.]]\n",
      "\n",
      " [[1. 1.]\n",
      "  [1. 1.]\n",
      "  [1. 1.]]\n",
      "\n",
      " [[1. 1.]\n",
      "  [1. 1.]\n",
      "  [1. 1.]]\n",
      "\n",
      " [[1. 1.]\n",
      "  [1. 1.]\n",
      "  [1. 1.]]\n",
      "\n",
      " [[1. 1.]\n",
      "  [1. 1.]\n",
      "  [1. 1.]]], shape=(5, 3, 2), dtype=float32)\n"
     ]
    }
   ],
   "source": [
    "fill_tensor = tf.ones(\n",
    "    shape = [5,3,2],\n",
    "    name = None\n",
    ")\n",
    "\n",
    "print(fill_tensor)"
   ]
  },
  {
   "cell_type": "markdown",
   "metadata": {},
   "source": [
    "### tf.ones_like()\n",
    "- Creates a tensor of all ones that has the same shape as the input (Input is also an tensor)"
   ]
  },
  {
   "cell_type": "code",
   "execution_count": 45,
   "metadata": {},
   "outputs": [
    {
     "name": "stdout",
     "output_type": "stream",
     "text": [
      "tf.Tensor(\n",
      "[[1 2 3]\n",
      " [4 0 6]], shape=(2, 3), dtype=int32)\n",
      "\n",
      "\n",
      "Ones like tensor\n",
      "tf.Tensor(\n",
      "[[1 1 1]\n",
      " [1 1 1]], shape=(2, 3), dtype=int32)\n"
     ]
    }
   ],
   "source": [
    "temp_tensor = tf.constant([\n",
    "    [1, 2, 3],\n",
    "    [4, 0, 6]\n",
    "])\n",
    "\n",
    "print(temp_tensor)\n",
    "print(\"\\n\\nOnes like tensor\")\n",
    "print(tf.ones_like(temp_tensor))"
   ]
  },
  {
   "cell_type": "markdown",
   "metadata": {},
   "source": [
    "### tf.zeros() methos \n",
    "- Creates a tensor with all elements set to zero."
   ]
  },
  {
   "cell_type": "code",
   "execution_count": 46,
   "metadata": {},
   "outputs": [
    {
     "data": {
      "text/plain": [
       "<tf.Tensor: shape=(3, 4), dtype=int32, numpy=\n",
       "array([[0, 0, 0, 0],\n",
       "       [0, 0, 0, 0],\n",
       "       [0, 0, 0, 0]])>"
      ]
     },
     "execution_count": 46,
     "metadata": {},
     "output_type": "execute_result"
    }
   ],
   "source": [
    "tf.zeros([3, 4], tf.int32)"
   ]
  },
  {
   "cell_type": "markdown",
   "metadata": {},
   "source": [
    "### tf.shape() Method\n",
    "- returns the shape of tensor"
   ]
  },
  {
   "cell_type": "code",
   "execution_count": 47,
   "metadata": {},
   "outputs": [
    {
     "name": "stdout",
     "output_type": "stream",
     "text": [
      "tf.Tensor([2 3], shape=(2,), dtype=int32)\n"
     ]
    }
   ],
   "source": [
    "temp_tensor = tf.constant([\n",
    "    [1, 2, 3],\n",
    "    [4, 0, 6]\n",
    "])\n",
    "\n",
    "print(tf.shape(temp_tensor))"
   ]
  },
  {
   "cell_type": "code",
   "execution_count": 48,
   "metadata": {},
   "outputs": [
    {
     "name": "stdout",
     "output_type": "stream",
     "text": [
      "2\n",
      "(2, 3)\n"
     ]
    }
   ],
   "source": [
    "# clearly note the diference between tensor.idim and tensor.shape\n",
    "\n",
    "print(temp_tensor.ndim)\n",
    "print(temp_tensor.shape)"
   ]
  },
  {
   "cell_type": "code",
   "execution_count": 49,
   "metadata": {},
   "outputs": [
    {
     "data": {
      "text/plain": [
       "<tf.Tensor: shape=(), dtype=int32, numpy=2>"
      ]
     },
     "execution_count": 49,
     "metadata": {},
     "output_type": "execute_result"
    }
   ],
   "source": [
    "tf.rank(temp_tensor)"
   ]
  },
  {
   "cell_type": "markdown",
   "metadata": {},
   "source": [
    "### tf.size() method:\n",
    "- Returns the size of a tensor."
   ]
  },
  {
   "cell_type": "code",
   "execution_count": 52,
   "metadata": {},
   "outputs": [
    {
     "data": {
      "text/plain": [
       "<tf.Tensor: shape=(), dtype=int32, numpy=12>"
      ]
     },
     "execution_count": 52,
     "metadata": {},
     "output_type": "execute_result"
    }
   ],
   "source": [
    "temp_tensor = tf.constant([\n",
    "    [\n",
    "        [1, 1, 1], \n",
    "        [2, 2, 2]\n",
    "    ],\n",
    "\n",
    "    [\n",
    "        [3, 3, 3], \n",
    "        [4, 4, 4]\n",
    "    ]\n",
    "])\n",
    "\n",
    "tf.size(temp_tensor)   # see the numpy value \n",
    "# print(tf.size(temp_tensor))"
   ]
  },
  {
   "cell_type": "code",
   "execution_count": 53,
   "metadata": {},
   "outputs": [
    {
     "name": "stdout",
     "output_type": "stream",
     "text": [
      "tf.Tensor(6, shape=(), dtype=int32)\n"
     ]
    }
   ],
   "source": [
    "tt = tf.constant([\n",
    "    [1, 2, 3],\n",
    "    [4, 0, 6]\n",
    "])\n",
    "\n",
    "print(tf.size(tt))"
   ]
  },
  {
   "cell_type": "markdown",
   "metadata": {},
   "source": [
    "### tf.random() methods"
   ]
  },
  {
   "cell_type": "code",
   "execution_count": null,
   "metadata": {},
   "outputs": [],
   "source": [
    "# Complete signature of method is \n",
    "\n",
    "tf.random.normal(\n",
    "    shape,\n",
    "    mean=0.0,\n",
    "    stddev=1.0,\n",
    "    dtype=tf.dtypes.float32,\n",
    "    seed=None,\n",
    "    name=None\n",
    ")"
   ]
  },
  {
   "cell_type": "code",
   "execution_count": 59,
   "metadata": {},
   "outputs": [
    {
     "name": "stdout",
     "output_type": "stream",
     "text": [
      "tf.Tensor(\n",
      "[[-1.5210497   1.0521117  -1.6889142 ]\n",
      " [-0.23752344 -0.48445648  0.97160536]], shape=(2, 3), dtype=float32)\n"
     ]
    }
   ],
   "source": [
    "random_tensor = tf.random.normal(\n",
    "    shape = [2,3],\n",
    "    mean=0.0,\n",
    "    stddev=1.0,\n",
    "    dtype=tf.dtypes.float32,\n",
    "    seed=None,\n",
    "    name=None\n",
    ")\n",
    "\n",
    "print(random_tensor)"
   ]
  },
  {
   "cell_type": "code",
   "execution_count": 62,
   "metadata": {},
   "outputs": [
    {
     "name": "stdout",
     "output_type": "stream",
     "text": [
      "tf.Tensor(\n",
      "[[5.631578  5.766441  4.4511576]\n",
      " [5.909915  4.083678  3.6853127]], shape=(2, 3), dtype=float32)\n"
     ]
    }
   ],
   "source": [
    "random_normal_tensor = tf.random.normal(\n",
    "    shape = [2,3],\n",
    "    mean=5,\n",
    "    stddev=1,\n",
    "    dtype=tf.dtypes.float32,\n",
    "    seed=None,\n",
    "    name=None\n",
    ")\n",
    "\n",
    "print(random_normal_tensor) # tensor from normal distribution"
   ]
  },
  {
   "cell_type": "code",
   "execution_count": 63,
   "metadata": {},
   "outputs": [
    {
     "name": "stdout",
     "output_type": "stream",
     "text": [
      "tf.Tensor(\n",
      "[[0.40113115 0.07538974 0.98595655]\n",
      " [0.404662   0.43271422 0.41230822]], shape=(2, 3), dtype=float32)\n"
     ]
    }
   ],
   "source": [
    "# Uniform distribution \n",
    "random_uniform_tensor = tf.random.uniform(\n",
    "    shape = [2,3],\n",
    "    minval=0,\n",
    "    maxval=None,\n",
    "    dtype=tf.dtypes.float32,\n",
    "    seed=None,\n",
    "    name=None\n",
    ")\n",
    "\n",
    "print(random_uniform_tensor)\n",
    "\n"
   ]
  },
  {
   "cell_type": "code",
   "execution_count": 66,
   "metadata": {},
   "outputs": [
    {
     "name": "stdout",
     "output_type": "stream",
     "text": [
      "tf.Tensor([0.0166105  0.6527537  0.63461554 0.4780662  0.6517823 ], shape=(5,), dtype=float32)\n"
     ]
    }
   ],
   "source": [
    "# Uniform distribution \n",
    "random_uniform_tensor = tf.random.uniform(\n",
    "    shape = [5],\n",
    "    minval=0,\n",
    "    maxval=None,          # default max value is 1\n",
    "    dtype=tf.dtypes.float32,\n",
    "    seed=None,\n",
    "    name=None\n",
    ")\n",
    "\n",
    "print(random_uniform_tensor)"
   ]
  },
  {
   "cell_type": "code",
   "execution_count": 69,
   "metadata": {},
   "outputs": [
    {
     "name": "stdout",
     "output_type": "stream",
     "text": [
      "tf.Tensor([9.637825  5.560213  2.9522455 4.507022  0.9550154], shape=(5,), dtype=float32)\n"
     ]
    }
   ],
   "source": [
    "# Uniform distribution \n",
    "random_uniform_tensor = tf.random.uniform(\n",
    "    shape = [5],\n",
    "    minval=0,\n",
    "    maxval=10,\n",
    "    dtype=tf.dtypes.float32,\n",
    "    seed=None,\n",
    "    name=None\n",
    ")\n",
    "\n",
    "print(random_uniform_tensor)"
   ]
  },
  {
   "cell_type": "code",
   "execution_count": 71,
   "metadata": {},
   "outputs": [],
   "source": [
    "# # Uniform distribution \n",
    "# random_uniform_tensor = tf.random.uniform(\n",
    "#     shape = [5],\n",
    "#     minval=0,\n",
    "#     maxval=None,          # default max value is 1\n",
    "#     dtype=tf.dtypes.int32,\n",
    "#     seed=None,\n",
    "#     name=None\n",
    "# )\n",
    "\n",
    "# print(random_uniform_tensor)\n",
    "\n",
    "# for int32 data type we need to mention the maxvalue otherwise we will get an error \n",
    "# # Error : Must specify maxval for integer dtype tf.int32"
   ]
  },
  {
   "cell_type": "code",
   "execution_count": 74,
   "metadata": {},
   "outputs": [
    {
     "name": "stdout",
     "output_type": "stream",
     "text": [
      "tf.Tensor([1 3 1 4 4], shape=(5,), dtype=int32)\n"
     ]
    }
   ],
   "source": [
    "# Uniform distribution \n",
    "random_uniform_tensor = tf.random.uniform(\n",
    "    shape = [5],\n",
    "    minval=0,\n",
    "    maxval=5,          # Note we are defining maxvalue hence will wont get error \n",
    "    dtype=tf.dtypes.int32, # data type is also int32\n",
    "    seed=None,\n",
    "    name=None\n",
    ")\n",
    "\n",
    "print(random_uniform_tensor)"
   ]
  },
  {
   "cell_type": "code",
   "execution_count": 75,
   "metadata": {},
   "outputs": [
    {
     "name": "stdout",
     "output_type": "stream",
     "text": [
      "tf.Tensor([327 116 286 252 192], shape=(5,), dtype=int32)\n"
     ]
    }
   ],
   "source": [
    "# Uniform distribution \n",
    "random_uniform_tensor = tf.random.uniform(\n",
    "    shape = [5],\n",
    "    minval=10,\n",
    "    maxval=500,          # Note we are defining maxvalue hence will wont get error \n",
    "    dtype=tf.dtypes.int32, # data type is also int32\n",
    "    seed=None,\n",
    "    name=None\n",
    ")\n",
    "\n",
    "print(random_uniform_tensor)"
   ]
  },
  {
   "cell_type": "markdown",
   "metadata": {},
   "source": [
    "### seed parameter "
   ]
  },
  {
   "cell_type": "code",
   "execution_count": 80,
   "metadata": {},
   "outputs": [
    {
     "name": "stdout",
     "output_type": "stream",
     "text": [
      "tf.Tensor([4 3 1], shape=(3,), dtype=int32)\n",
      "tf.Tensor([4 3 2], shape=(3,), dtype=int32)\n",
      "tf.Tensor([1 1 1], shape=(3,), dtype=int32)\n",
      "tf.Tensor([1 3 3], shape=(3,), dtype=int32)\n"
     ]
    }
   ],
   "source": [
    "tf.random.set_seed(5)  # important to do this otherwise we will get different otputs each time \n",
    "\n",
    "print(tf.random.uniform(shape=[3,], maxval=5, dtype=tf.int32, seed=10))\n",
    "print(tf.random.uniform(shape=[3,], maxval=5, dtype=tf.int32, seed=10))\n",
    "print(tf.random.uniform(shape=[3,], maxval=5, dtype=tf.int32, seed=10))\n",
    "print(tf.random.uniform(shape=[3,], maxval=5, dtype=tf.int32, seed=10))"
   ]
  },
  {
   "cell_type": "code",
   "execution_count": 82,
   "metadata": {},
   "outputs": [
    {
     "name": "stdout",
     "output_type": "stream",
     "text": [
      "tf.Tensor([4 3 1], shape=(3,), dtype=int32)\n",
      "tf.Tensor([4 3 2], shape=(3,), dtype=int32)\n",
      "tf.Tensor([1 1 1], shape=(3,), dtype=int32)\n",
      "tf.Tensor([1 3 3], shape=(3,), dtype=int32)\n"
     ]
    }
   ],
   "source": [
    "tf.random.set_seed(5)  # important to do this otherwise we will get different otputs each time \n",
    "\n",
    "print(tf.random.uniform(shape=[3,], maxval=5, dtype=tf.int32, seed=10))\n",
    "print(tf.random.uniform(shape=[3,], maxval=5, dtype=tf.int32, seed=10))\n",
    "print(tf.random.uniform(shape=[3,], maxval=5, dtype=tf.int32, seed=10))\n",
    "print(tf.random.uniform(shape=[3,], maxval=5, dtype=tf.int32, seed=10))"
   ]
  },
  {
   "cell_type": "code",
   "execution_count": 89,
   "metadata": {},
   "outputs": [
    {
     "name": "stdout",
     "output_type": "stream",
     "text": [
      "tf.Tensor([1 0 4], shape=(3,), dtype=int32)\n",
      "tf.Tensor([0 2 0], shape=(3,), dtype=int32)\n",
      "tf.Tensor([3 4 2], shape=(3,), dtype=int32)\n",
      "tf.Tensor([1 3 2], shape=(3,), dtype=int32)\n"
     ]
    }
   ],
   "source": [
    "tf.random.set_seed(50)  # important to do this otherwise we will get different otputs each time \n",
    "\n",
    "print(tf.random.uniform(shape=[3,], maxval=5, dtype=tf.int32, seed=10))\n",
    "print(tf.random.uniform(shape=[3,], maxval=5, dtype=tf.int32, seed=10))\n",
    "print(tf.random.uniform(shape=[3,], maxval=5, dtype=tf.int32, seed=10))\n",
    "print(tf.random.uniform(shape=[3,], maxval=5, dtype=tf.int32, seed=10))"
   ]
  },
  {
   "cell_type": "code",
   "execution_count": 88,
   "metadata": {},
   "outputs": [
    {
     "name": "stdout",
     "output_type": "stream",
     "text": [
      "tf.Tensor([3 2 0], shape=(3,), dtype=int32)\n",
      "tf.Tensor([2 1 3], shape=(3,), dtype=int32)\n",
      "tf.Tensor([4 1 0], shape=(3,), dtype=int32)\n",
      "tf.Tensor([0 0 3], shape=(3,), dtype=int32)\n"
     ]
    }
   ],
   "source": [
    "tf.random.set_seed(25)  # important to do this otherwise we will get different otputs each time \n",
    "\n",
    "print(tf.random.uniform(shape=[3,], maxval=5, dtype=tf.int32, seed=20))\n",
    "print(tf.random.uniform(shape=[3,], maxval=5, dtype=tf.int32, seed=20))\n",
    "print(tf.random.uniform(shape=[3,], maxval=5, dtype=tf.int32, seed=20))\n",
    "print(tf.random.uniform(shape=[3,], maxval=5, dtype=tf.int32, seed=20))"
   ]
  },
  {
   "cell_type": "markdown",
   "metadata": {},
   "source": [
    "## Indexing In tensors"
   ]
  },
  {
   "cell_type": "code",
   "execution_count": 98,
   "metadata": {},
   "outputs": [
    {
     "name": "stdout",
     "output_type": "stream",
     "text": [
      "tf.Tensor([ 3  9  6 40 81 10 40 78 92 15 56], shape=(11,), dtype=int32)\n"
     ]
    }
   ],
   "source": [
    "temp_tensor = tf.constant([3,9,6,40,81,10,40,78,92,15,56])\n",
    "print(temp_tensor)"
   ]
  },
  {
   "cell_type": "code",
   "execution_count": 103,
   "metadata": {},
   "outputs": [
    {
     "name": "stdout",
     "output_type": "stream",
     "text": [
      "The first element of tensor is :  tf.Tensor(3, shape=(), dtype=int32)\n",
      "The first  4 elements of tensor is :  tf.Tensor([ 3  9  6 40], shape=(4,), dtype=int32)\n",
      "Elements are :  tf.Tensor([ 9  6 40 81], shape=(4,), dtype=int32)\n",
      "Elements are :  tf.Tensor([40 81 10 40 78 92 15 56], shape=(8,), dtype=int32)\n",
      "Elements are :  tf.Tensor([ 3  6 81], shape=(3,), dtype=int32)\n",
      "Elements are :  tf.Tensor([ 3 40], shape=(2,), dtype=int32)\n",
      "Elements are :  tf.Tensor([40 81 10 40 78 92], shape=(6,), dtype=int32)\n"
     ]
    }
   ],
   "source": [
    "# to get first fp=our elements of tensors\n",
    "print(\"The first element of tensor is : \",temp_tensor[0])\n",
    "print(\"The first  4 elements of tensor is : \",temp_tensor[0:4])\n",
    "print(\"Elements are : \",temp_tensor[1:5])   # we wants to go for 4th element then write 5 index\n",
    "print(\"Elements are : \",temp_tensor[3:])   # everything after index 3\n",
    "print(\"Elements are : \",temp_tensor[0:6:2])   # elements from index 0 to 5 by taking one jump\n",
    "print(\"Elements are : \",temp_tensor[0:6:3])   # elements from index 0 to 5 by taking one jump\n",
    "print(\"Elements are : \",temp_tensor[3:-2])\n",
    "\n"
   ]
  },
  {
   "cell_type": "code",
   "execution_count": 105,
   "metadata": {},
   "outputs": [
    {
     "name": "stdout",
     "output_type": "stream",
     "text": [
      "Two dimensional arrays is :  tf.Tensor(\n",
      "[[ 1  2  0]\n",
      " [ 3  5 -1]\n",
      " [ 1  5  6]\n",
      " [ 2  3  8]], shape=(4, 3), dtype=int32)\n"
     ]
    }
   ],
   "source": [
    "## Note Two DImensional Tensors\n",
    "two_D_tensor = tf.constant([\n",
    "    [1,2,0],\n",
    "    [3,5,-1],\n",
    "    [1,5,6],\n",
    "    [2,3,8]\n",
    "])\n",
    "\n",
    "print(\"Two dimensional arrays is : \",two_D_tensor)"
   ]
  },
  {
   "cell_type": "code",
   "execution_count": 124,
   "metadata": {},
   "outputs": [
    {
     "name": "stdout",
     "output_type": "stream",
     "text": [
      "First row of tensor is  :  tf.Tensor([1 2 0], shape=(3,), dtype=int32)\n",
      "secon row of tensor is  :  tf.Tensor([ 3  5 -1], shape=(3,), dtype=int32)\n",
      "third row of tensor is  :  tf.Tensor([1 5 6], shape=(3,), dtype=int32)\n",
      "forth row of tensor is  :  tf.Tensor([2 3 8], shape=(3,), dtype=int32)\n",
      "first row, first element is   :  tf.Tensor(1, shape=(), dtype=int32)\n",
      "first row, second element is   :  tf.Tensor(2, shape=(), dtype=int32)\n",
      "first row, third element is   :  tf.Tensor(0, shape=(), dtype=int32)\n",
      "second row, first element is   :  tf.Tensor(3, shape=(), dtype=int32)\n",
      "second row, second element is   :  tf.Tensor(5, shape=(), dtype=int32)\n",
      "second row, third element is   :  tf.Tensor(-1, shape=(), dtype=int32)\n",
      "\n",
      "\n",
      " first two rows, first two elements :  tf.Tensor(\n",
      "[[1 2]\n",
      " [3 5]], shape=(2, 2), dtype=int32)\n",
      "\n",
      "\n",
      " first three rows, first two elements :  tf.Tensor(\n",
      "[[1 2]\n",
      " [3 5]\n",
      " [1 5]], shape=(3, 2), dtype=int32)\n",
      "\n",
      "\n",
      " first three rows, 2nd and 3rd elements : tf.Tensor(\n",
      "[[ 2  0]\n",
      " [ 5 -1]\n",
      " [ 5  6]], shape=(3, 2), dtype=int32)\n",
      "All elements of first three rows :  tf.Tensor(\n",
      "[[ 1  2  0]\n",
      " [ 3  5 -1]\n",
      " [ 1  5  6]], shape=(3, 3), dtype=int32)\n",
      "third row last two elements  :  tf.Tensor([5 6], shape=(2,), dtype=int32)\n"
     ]
    }
   ],
   "source": [
    "# convention followed is tensor[row,column]\n",
    "\n",
    "# Accesing one row \n",
    "print(\"First row of tensor is  : \",two_D_tensor[0,])\n",
    "print(\"secon row of tensor is  : \",two_D_tensor[1,])\n",
    "print(\"third row of tensor is  : \",two_D_tensor[2,])\n",
    "print(\"forth row of tensor is  : \",two_D_tensor[3,])\n",
    "\n",
    "# accesing one element at a time \n",
    "print(\"first row, first element is   : \",two_D_tensor[0,0])  # oth row oth element\n",
    "print(\"first row, second element is   : \",two_D_tensor[0,1])  # oth row 1st element\n",
    "print(\"first row, third element is   : \",two_D_tensor[0,2])   # oth row 2nd element\n",
    "\n",
    "# accesing one element at a time \n",
    "print(\"second row, first element is   : \",two_D_tensor[1,0])  # oth row oth element\n",
    "print(\"second row, second element is   : \",two_D_tensor[1,1])  # oth row 1st element\n",
    "print(\"second row, third element is   : \",two_D_tensor[1,2])   # oth row 2nd element\n",
    "\n",
    "# accesing more than one elements at a time \n",
    "print(\"\\n\\n first two rows, first two elements : \",two_D_tensor[0:2, 0:2])  # first two rows, first two elements \n",
    "print(\"\\n\\n first three rows, first two elements : \",two_D_tensor[0:3, 0:2])  #\n",
    "print(\"\\n\\n first three rows, 2nd and 3rd elements :\",two_D_tensor[0:3, 1:3])  #\n",
    "\n",
    "\n",
    "# \n",
    "print(\"All elements of first three rows : \", two_D_tensor[0:3, :])   \n",
    "print(\"third row last two elements  : \", two_D_tensor[2, 1:])   \n",
    "\n",
    "\n",
    "# accesing more than one elements at a time with jumping \n",
    "#print(\"\\n\\n first two rows, first two elements : \",two_D_tensor[0:4, 0:3, 2])  # first two rows, first two elements "
   ]
  },
  {
   "cell_type": "code",
   "execution_count": 128,
   "metadata": {},
   "outputs": [
    {
     "name": "stdout",
     "output_type": "stream",
     "text": [
      "Two dimensional tensor is :  tf.Tensor(\n",
      "[[ 1  2  0]\n",
      " [ 3  5 -1]\n",
      " [ 1  5  6]\n",
      " [ 2  3  8]], shape=(4, 3), dtype=int32)\n"
     ]
    }
   ],
   "source": [
    "print(\"Two dimensional tensor is : \", two_D_tensor)"
   ]
  },
  {
   "cell_type": "code",
   "execution_count": 131,
   "metadata": {},
   "outputs": [
    {
     "name": "stdout",
     "output_type": "stream",
     "text": [
      "All elements of first columnn is :  tf.Tensor([1 3 1 2], shape=(4,), dtype=int32)\n",
      "All elements of second columnn is :  tf.Tensor([2 5 5 3], shape=(4,), dtype=int32)\n",
      "All elements of third columnn is :  tf.Tensor([ 0 -1  6  8], shape=(4,), dtype=int32)\n",
      "Second columns, third elements  tf.Tensor(5, shape=(), dtype=int32)\n",
      "tf.Tensor(\n",
      "[[3 5]\n",
      " [1 5]], shape=(2, 2), dtype=int32)\n"
     ]
    }
   ],
   "source": [
    "# Accesing elements column wise \n",
    "print(\"All elements of first columnn is : \",two_D_tensor[:,0])  \n",
    "print(\"All elements of second columnn is : \",two_D_tensor[:,1])  \n",
    "print(\"All elements of third columnn is : \",two_D_tensor[:,2]) \n",
    "\n",
    "# \n",
    "print(\"Second columns, third elements \", two_D_tensor[2,1])   # third row , second element  = two_D_tensor[2,1]\n",
    "\n",
    "\n",
    "print(two_D_tensor[1:3, 0:2])\n",
    "\n",
    "\n"
   ]
  },
  {
   "cell_type": "markdown",
   "metadata": {},
   "source": [
    "## Accesing the elements of three dimenison tensor\n"
   ]
  },
  {
   "cell_type": "code",
   "execution_count": 132,
   "metadata": {},
   "outputs": [
    {
     "name": "stdout",
     "output_type": "stream",
     "text": [
      "Three dimensional tesnor is :  tf.Tensor(\n",
      "[[[14 15 75]\n",
      "  [ 8  9  7]]\n",
      "\n",
      " [[66 78 90]\n",
      "  [90 12 30]]\n",
      "\n",
      " [[56  8  9]\n",
      "  [80 50 10]]\n",
      "\n",
      " [[15 20 14]\n",
      "  [78 45 12]]], shape=(4, 2, 3), dtype=int32)\n"
     ]
    }
   ],
   "source": [
    "three_D_tesnor = tf.constant([\n",
    "    [\n",
    "        [14,15,75],\n",
    "        [8,9,7]\n",
    "    ],\n",
    "    [\n",
    "        [66,78,90],\n",
    "        [90,12,30]\n",
    "    ],\n",
    "    [\n",
    "\n",
    "        [56,8,9],\n",
    "        [80,50,10]\n",
    "    ],\n",
    "    [\n",
    "        [15,20,14],\n",
    "        [78,45,12]\n",
    "    ]\n",
    "])\n",
    "\n",
    "print(\"Three dimensional tesnor is : \",three_D_tesnor)"
   ]
  },
  {
   "cell_type": "code",
   "execution_count": 135,
   "metadata": {},
   "outputs": [
    {
     "name": "stdout",
     "output_type": "stream",
     "text": [
      "The first 2D tensor of 3D tensor tf.Tensor(\n",
      "[[14 15 75]\n",
      " [ 8  9  7]], shape=(2, 3), dtype=int32)\n",
      "\n",
      "\n",
      "The second 2D tensor of 3D tensor tf.Tensor(\n",
      "[[66 78 90]\n",
      " [90 12 30]], shape=(2, 3), dtype=int32)\n",
      "\n",
      "\n",
      "The third 2D tensor of 3D tensor tf.Tensor(\n",
      "[[56  8  9]\n",
      " [80 50 10]], shape=(2, 3), dtype=int32)\n",
      "\n",
      "\n",
      "The fourth 2D tensor of 3D tensor tf.Tensor(\n",
      "[[15 20 14]\n",
      " [78 45 12]], shape=(2, 3), dtype=int32)\n"
     ]
    }
   ],
   "source": [
    "# convension is [row,column,]\n",
    "print(\"The first 2D tensor of 3D tensor\", three_D_tesnor[0])\n",
    "print(\"\\n\\nThe second 2D tensor of 3D tensor\", three_D_tesnor[1])\n",
    "print(\"\\n\\nThe third 2D tensor of 3D tensor\", three_D_tesnor[2])\n",
    "print(\"\\n\\nThe fourth 2D tensor of 3D tensor\", three_D_tesnor[3])"
   ]
  },
  {
   "cell_type": "code",
   "execution_count": 137,
   "metadata": {},
   "outputs": [
    {
     "name": "stdout",
     "output_type": "stream",
     "text": [
      "All elements of first 2D tensor tf.Tensor(\n",
      "[[14 15 75]\n",
      " [ 8  9  7]], shape=(2, 3), dtype=int32)\n",
      "\n",
      "\n",
      "All elements of second 2D tensor tf.Tensor(\n",
      "[[66 78 90]\n",
      " [90 12 30]], shape=(2, 3), dtype=int32)\n",
      "\n",
      "\n",
      "All elements of third 2D tensor tf.Tensor(\n",
      "[[56  8  9]\n",
      " [80 50 10]], shape=(2, 3), dtype=int32)\n",
      "\n",
      "\n",
      "All elements of fourth 2D tensor tf.Tensor(\n",
      "[[15 20 14]\n",
      " [78 45 12]], shape=(2, 3), dtype=int32)\n"
     ]
    }
   ],
   "source": [
    "#Accesing the entire 2D tensor \n",
    "print(\"All elements of first 2D tensor\",three_D_tesnor[0, :,:])\n",
    "print(\"\\n\\nAll elements of second 2D tensor\",three_D_tesnor[1, :,:])\n",
    "print(\"\\n\\nAll elements of third 2D tensor\",three_D_tesnor[2, :,:])\n",
    "print(\"\\n\\nAll elements of fourth 2D tensor\",three_D_tesnor[3, :,:])"
   ]
  },
  {
   "cell_type": "code",
   "execution_count": 141,
   "metadata": {},
   "outputs": [
    {
     "name": "stdout",
     "output_type": "stream",
     "text": [
      "First 2D tensors -> 2nd Row -> 2nd element :=> tf.Tensor(9, shape=(), dtype=int32)\n",
      "First 2D tensors -> 1nd Row -> 2nd element :=> tf.Tensor(15, shape=(), dtype=int32)\n",
      "First 2D tensors -> 1nd Row -> 1st element :=> tf.Tensor(14, shape=(), dtype=int32)\n"
     ]
    }
   ],
   "source": [
    "# Accesin the individual elements of any 2D tesnor of 3D tensor\n",
    "print(\"First 2D tensors -> 2nd Row -> 2nd element :=>\",three_D_tesnor[0,1,1])\n",
    "print(\"First 2D tensors -> 1nd Row -> 2nd element :=>\",three_D_tesnor[0,0,1])\n",
    "print(\"First 2D tensors -> 1nd Row -> 1st element :=>\",three_D_tesnor[0,0,0])"
   ]
  },
  {
   "cell_type": "code",
   "execution_count": 144,
   "metadata": {},
   "outputs": [
    {
     "name": "stdout",
     "output_type": "stream",
     "text": [
      "Third 2D tensors -> 2nd Row -> 2nd element :=> tf.Tensor(50, shape=(), dtype=int32)\n",
      "Third 2D tensors -> 1st row -> all elements :=> tf.Tensor([56  8  9], shape=(3,), dtype=int32)\n",
      "Third 2D tensors -> 2nd Row -> all elments :=> tf.Tensor([80 50 10], shape=(3,), dtype=int32)\n"
     ]
    }
   ],
   "source": [
    "# Accesin the individual elements of any 2D tesnor of 3D tensor\n",
    "print(\"Third 2D tensors -> 2nd Row -> 2nd element :=>\",three_D_tesnor[2,1,1])\n",
    "print(\"Third 2D tensors -> 1st row -> all elements :=>\",three_D_tesnor[2,0,:])\n",
    "print(\"Third 2D tensors -> 2nd Row -> all elments :=>\",three_D_tesnor[2,1,:])"
   ]
  },
  {
   "cell_type": "code",
   "execution_count": 145,
   "metadata": {},
   "outputs": [
    {
     "name": "stdout",
     "output_type": "stream",
     "text": [
      "2nd and 3rd 2D tensors -> 1st row  -> all elemnts :=> tf.Tensor(\n",
      "[[66 78 90]\n",
      " [56  8  9]], shape=(2, 3), dtype=int32)\n"
     ]
    }
   ],
   "source": [
    "print(\"2nd and 3rd 2D tensors -> 1st row  -> all elemnts :=>\",three_D_tesnor[1:3,0,:])"
   ]
  },
  {
   "cell_type": "code",
   "execution_count": 146,
   "metadata": {},
   "outputs": [
    {
     "name": "stdout",
     "output_type": "stream",
     "text": [
      "2nd and 3rd 2D tensors -> 1st row  -> last two elemts :=> tf.Tensor(\n",
      "[[78 90]\n",
      " [ 8  9]], shape=(2, 2), dtype=int32)\n"
     ]
    }
   ],
   "source": [
    "print(\"2nd and 3rd 2D tensors -> 1st row  -> last two elemts :=>\",three_D_tesnor[1:3,0,1:3])"
   ]
  },
  {
   "cell_type": "code",
   "execution_count": 149,
   "metadata": {},
   "outputs": [
    {
     "name": "stdout",
     "output_type": "stream",
     "text": [
      "last 2D tensors -> 1st row  -> last two elemts :=> tf.Tensor([20 14], shape=(2,), dtype=int32)\n"
     ]
    }
   ],
   "source": [
    "print(\"last 2D tensors -> 1st row  -> last two elemts :=>\",three_D_tesnor[-1,0,-2:])"
   ]
  },
  {
   "cell_type": "code",
   "execution_count": 150,
   "metadata": {},
   "outputs": [
    {
     "name": "stdout",
     "output_type": "stream",
     "text": [
      "Every 2D tensors last two coumns tf.Tensor(\n",
      "[[[15 75]\n",
      "  [ 9  7]]\n",
      "\n",
      " [[78 90]\n",
      "  [12 30]]\n",
      "\n",
      " [[ 8  9]\n",
      "  [50 10]]\n",
      "\n",
      " [[20 14]\n",
      "  [45 12]]], shape=(4, 2, 2), dtype=int32)\n"
     ]
    }
   ],
   "source": [
    "print(\"Every 2D tensors last two columns\",three_D_tesnor[:,:,1:3])"
   ]
  },
  {
   "cell_type": "code",
   "execution_count": 157,
   "metadata": {},
   "outputs": [
    {
     "name": "stdout",
     "output_type": "stream",
     "text": [
      "tf.Tensor(\n",
      "[[[14 15 75]\n",
      "  [ 8  9  7]]\n",
      "\n",
      " [[66 78 90]\n",
      "  [90 12 30]]\n",
      "\n",
      " [[56  8  9]\n",
      "  [80 50 10]]\n",
      "\n",
      " [[15 20 14]\n",
      "  [78 45 12]]], shape=(4, 2, 3), dtype=int32)\n"
     ]
    }
   ],
   "source": [
    "print(three_D_tesnor)"
   ]
  },
  {
   "cell_type": "code",
   "execution_count": 154,
   "metadata": {},
   "outputs": [
    {
     "name": "stdout",
     "output_type": "stream",
     "text": [
      "tf.Tensor(\n",
      "[[75  7]\n",
      " [90 30]\n",
      " [ 9 10]\n",
      " [14 12]], shape=(4, 2), dtype=int32)\n"
     ]
    }
   ],
   "source": [
    "print(three_D_tesnor[... , : , 2])      # Note"
   ]
  },
  {
   "cell_type": "code",
   "execution_count": 156,
   "metadata": {},
   "outputs": [
    {
     "name": "stdout",
     "output_type": "stream",
     "text": [
      "tf.Tensor(\n",
      "[[15  9]\n",
      " [78 12]\n",
      " [ 8 50]\n",
      " [20 45]], shape=(4, 2), dtype=int32)\n"
     ]
    }
   ],
   "source": [
    "print(three_D_tesnor[... , : , 1]) # Note"
   ]
  },
  {
   "cell_type": "code",
   "execution_count": 158,
   "metadata": {},
   "outputs": [
    {
     "name": "stdout",
     "output_type": "stream",
     "text": [
      "tf.Tensor(\n",
      "[[14  8]\n",
      " [66 90]\n",
      " [56 80]\n",
      " [15 78]], shape=(4, 2), dtype=int32)\n"
     ]
    }
   ],
   "source": [
    "print(three_D_tesnor[... , : , 0])"
   ]
  },
  {
   "cell_type": "markdown",
   "metadata": {},
   "source": [
    "## Mathematicall Operation in Tensorflow"
   ]
  }
 ],
 "metadata": {
  "kernelspec": {
   "display_name": "AIML",
   "language": "python",
   "name": "python3"
  },
  "language_info": {
   "codemirror_mode": {
    "name": "ipython",
    "version": 3
   },
   "file_extension": ".py",
   "mimetype": "text/x-python",
   "name": "python",
   "nbconvert_exporter": "python",
   "pygments_lexer": "ipython3",
   "version": "3.10.9"
  },
  "orig_nbformat": 4
 },
 "nbformat": 4,
 "nbformat_minor": 2
}
